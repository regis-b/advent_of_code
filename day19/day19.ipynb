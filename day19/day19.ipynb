{
 "cells": [
  {
   "cell_type": "code",
   "execution_count": 106,
   "metadata": {},
   "outputs": [],
   "source": [
    "import re\n",
    "import functools\n",
    "\n",
    "# input_file = 'input_example.txt'\n",
    "input_file = 'input_full.txt'\n",
    "\n",
    "with open(input_file) as file:\n",
    "    lines = file.readlines()\n",
    "lines = [[int(i) for i in re.findall(r'-?\\d+', line)] for line in lines]\n",
    "\n",
    "blueprints = {}\n",
    "for line in lines:\n",
    "    blueprints[line[0]] = {\n",
    "        'ore_robot_ore_cost': line[1],\n",
    "        'clay_robot_ore_cost': line[2],\n",
    "        'obsidian_robot_ore_cost': line[3],\n",
    "        'obsidian_robot_clay_cost': line[4],\n",
    "        'obsidian_robot_clay_cost': line[4],\n",
    "        'geode_robot_ore_cost': line[5],\n",
    "        'geode_robot_obsidian_cost': line[6],\n",
    "    }"
   ]
  },
  {
   "cell_type": "code",
   "execution_count": 114,
   "metadata": {},
   "outputs": [],
   "source": [
    "@functools.lru_cache(maxsize=None)\n",
    "def solve(maxtime, time, r0, r1, r2, r3, m0, m1, m2, m3, r0_m0, r1_m0, r2_m0, r2_m1, r3_m0, r3_m2):\n",
    "    b = [r0_m0, r1_m0, r2_m0, r2_m1, r3_m0, r3_m2]\n",
    "\n",
    "    if time == maxtime+1:\n",
    "        return m3\n",
    "\n",
    "    max_geodes = 0\n",
    "    if m0 >= r3_m0 and m2 >= r3_m2: # buy geode robot\n",
    "        max_geodes = max(max_geodes, solve(maxtime, time+1, r0, r1, r2, r3+1, m0+r0-r3_m0, m1+r1, m2+r2-r3_m2, m3+r3, *b))\n",
    "    else:\n",
    "        if m0 < max(r0_m0, r1_m0, r2_m0, r3_m0): # buy nothing\n",
    "            max_geodes = max(max_geodes, solve(maxtime, time+1, r0, r1, r2, r3, m0+r0, m1+r1, m2+r2, m3+r3, *b))\n",
    "        if m0 >= r0_m0: # buy ore robot\n",
    "            max_geodes = max(max_geodes, solve(maxtime, time+1, r0+1, r1, r2, r3, m0+r0-r0_m0, m1+r1, m2+r2, m3+r3, *b))\n",
    "        if m0 >= r1_m0: # buy clay robot\n",
    "            max_geodes = max(max_geodes, solve(maxtime, time+1, r0, r1+1, r2, r3, m0+r0-r1_m0, m1+r1, m2+r2, m3+r3, *b))\n",
    "        if m0 >= r2_m0 and m1 >= r2_m1: # buy obsodian robot\n",
    "            max_geodes = max(max_geodes, solve(maxtime, time+1, r0, r1, r2+1, r3, m0+r0-r2_m0, m1+r1-r2_m1, m2+r2, m3+r3, *b))\n",
    "        \n",
    "    return max_geodes\n"
   ]
  },
  {
   "cell_type": "code",
   "execution_count": 108,
   "metadata": {},
   "outputs": [
    {
     "name": "stdout",
     "output_type": "stream",
     "text": [
      "Part 1: 1834\n"
     ]
    }
   ],
   "source": [
    "result = 0\n",
    "for i in range(1,len(blueprints)+1):\n",
    "    result += i * solve(24, 1, 1,0,0,0, 0,0,0,0, *blueprints[i].values())\n",
    "print(f'Part 1: {result}')"
   ]
  }
 ],
 "metadata": {
  "kernelspec": {
   "display_name": "Python 3",
   "language": "python",
   "name": "python3"
  },
  "language_info": {
   "codemirror_mode": {
    "name": "ipython",
    "version": 3
   },
   "file_extension": ".py",
   "mimetype": "text/x-python",
   "name": "python",
   "nbconvert_exporter": "python",
   "pygments_lexer": "ipython3",
   "version": "3.9.4"
  },
  "orig_nbformat": 4,
  "vscode": {
   "interpreter": {
    "hash": "0f9fe7654c201a2f0e5a846a57c518c35e6a2afb02af181997bf343144989e50"
   }
  }
 },
 "nbformat": 4,
 "nbformat_minor": 2
}
