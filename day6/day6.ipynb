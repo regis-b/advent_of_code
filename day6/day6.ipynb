{
 "cells": [
  {
   "cell_type": "code",
   "execution_count": 27,
   "metadata": {},
   "outputs": [
    {
     "data": {
      "text/plain": [
       "{'a', 'b', 'c', 'd'}"
      ]
     },
     "execution_count": 27,
     "metadata": {},
     "output_type": "execute_result"
    }
   ],
   "source": [
    "set('abbcd')"
   ]
  },
  {
   "cell_type": "code",
   "execution_count": 52,
   "metadata": {},
   "outputs": [
    {
     "name": "stdout",
     "output_type": "stream",
     "text": [
      "\"gbpl\" found at 1034 has no duplicates\n"
     ]
    }
   ],
   "source": [
    "with open('input.txt') as f:\n",
    "    lines = f.readlines()\n",
    "    line=lines[0]\n",
    "\n",
    "i=0\n",
    "for i in range(0,len(line)):\n",
    "    start = max(0, i - 3)\n",
    "    end = i + 1\n",
    "    # print(f'i={i}, start={start}, end={end}, line[{start}:{end}]={line[start:end]}')\n",
    "    aaaa = line[start:end]\n",
    "    max_count = 1\n",
    "    for a in aaaa:\n",
    "        max_count = max(max_count, aaaa.count(a)) \n",
    "    if len(aaaa) == 4 and max_count == 1:\n",
    "        print(f'\"{aaaa}\" found at {end} has no duplicates')\n",
    "        break"
   ]
  }
 ],
 "metadata": {
  "kernelspec": {
   "display_name": "Python 3.9.4 64-bit",
   "language": "python",
   "name": "python3"
  },
  "language_info": {
   "codemirror_mode": {
    "name": "ipython",
    "version": 3
   },
   "file_extension": ".py",
   "mimetype": "text/x-python",
   "name": "python",
   "nbconvert_exporter": "python",
   "pygments_lexer": "ipython3",
   "version": "3.9.4"
  },
  "orig_nbformat": 4,
  "vscode": {
   "interpreter": {
    "hash": "0f9fe7654c201a2f0e5a846a57c518c35e6a2afb02af181997bf343144989e50"
   }
  }
 },
 "nbformat": 4,
 "nbformat_minor": 2
}
