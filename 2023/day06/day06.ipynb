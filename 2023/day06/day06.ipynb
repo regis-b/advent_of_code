{
 "cells": [
  {
   "cell_type": "code",
   "execution_count": 46,
   "metadata": {},
   "outputs": [],
   "source": [
    "full = True\n",
    "input_file = 'input_full.txt' if full else 'input_example.txt'\n",
    "\n",
    "with open(input_file) as file:\n",
    "    lines = file.read()\n",
    "\n",
    "lines = [line for line in lines.split('\\n')]\n",
    "lines = [[int(i) for i in line.split(':')[1].split(' ') if i!=''] for line in lines]\n",
    "times, distances = lines"
   ]
  },
  {
   "cell_type": "code",
   "execution_count": 47,
   "metadata": {},
   "outputs": [
    {
     "name": "stdout",
     "output_type": "stream",
     "text": [
      "Part 1: 252000\n"
     ]
    }
   ],
   "source": [
    "result = 1\n",
    "for (total_time, min_distance) in zip(times, distances):\n",
    "     result *= sum([1 for button_time in range(total_time+1) if (total_time - button_time) * button_time > min_distance])\n",
    "print('Part 1:', result)"
   ]
  },
  {
   "cell_type": "code",
   "execution_count": 48,
   "metadata": {},
   "outputs": [
    {
     "name": "stdout",
     "output_type": "stream",
     "text": [
      "Part 2: 36992486\n"
     ]
    }
   ],
   "source": [
    "total_time = int(''.join([str(time) for time in times]))\n",
    "min_distance = int(''.join([str(distance) for distance in distances]))\n",
    "print('Part 2:', sum([1 for button_time in range(total_time+1) if (total_time - button_time) * button_time > min_distance]))"
   ]
  }
 ],
 "metadata": {
  "kernelspec": {
   "display_name": "Python 3",
   "language": "python",
   "name": "python3"
  },
  "language_info": {
   "codemirror_mode": {
    "name": "ipython",
    "version": 3
   },
   "file_extension": ".py",
   "mimetype": "text/x-python",
   "name": "python",
   "nbconvert_exporter": "python",
   "pygments_lexer": "ipython3",
   "version": "3.9.4"
  }
 },
 "nbformat": 4,
 "nbformat_minor": 2
}
