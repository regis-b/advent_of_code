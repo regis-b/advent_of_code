{
 "cells": [
  {
   "cell_type": "code",
   "execution_count": 131,
   "metadata": {},
   "outputs": [],
   "source": [
    "full = True\n",
    "input_file = 'input_full.txt' if full else 'input_example.txt'\n",
    "\n",
    "with open(input_file) as file:\n",
    "    lines = file.read().splitlines()"
   ]
  },
  {
   "cell_type": "code",
   "execution_count": 132,
   "metadata": {},
   "outputs": [],
   "source": [
    "games = {}\n",
    "for game_id, line in enumerate(lines, 1):\n",
    "    games[game_id] = {color:[] for color in ['blue', 'red', 'green']}\n",
    "    for game_set in line.split(': ')[1].split('; '):\n",
    "        for color in game_set.split(', '):\n",
    "            games[game_id][color.split(' ')[1]] += [int(color.split(' ')[0])]"
   ]
  },
  {
   "cell_type": "code",
   "execution_count": 133,
   "metadata": {},
   "outputs": [
    {
     "name": "stdout",
     "output_type": "stream",
     "text": [
      "Part 1:  2076\n"
     ]
    }
   ],
   "source": [
    "print('Part 1: ', sum([game_id for game_id, game in games.items() if max(game['red']) <= 12 and max(game['green']) <= 13 and max(game['blue']) <= 14]))"
   ]
  },
  {
   "cell_type": "code",
   "execution_count": 134,
   "metadata": {},
   "outputs": [
    {
     "name": "stdout",
     "output_type": "stream",
     "text": [
      "Part 2:  70950\n"
     ]
    }
   ],
   "source": [
    "print('Part 2: ', sum([max(game['red']) * max(game['green']) * max(game['blue']) for game in games.values()]))"
   ]
  }
 ],
 "metadata": {
  "kernelspec": {
   "display_name": "Python 3",
   "language": "python",
   "name": "python3"
  },
  "language_info": {
   "codemirror_mode": {
    "name": "ipython",
    "version": 3
   },
   "file_extension": ".py",
   "mimetype": "text/x-python",
   "name": "python",
   "nbconvert_exporter": "python",
   "pygments_lexer": "ipython3",
   "version": "3.9.4"
  }
 },
 "nbformat": 4,
 "nbformat_minor": 2
}
