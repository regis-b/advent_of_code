{
 "cells": [
  {
   "cell_type": "code",
   "execution_count": 23,
   "metadata": {},
   "outputs": [
    {
     "name": "stdout",
     "output_type": "stream",
     "text": [
      "Game 1: 3 blue, 4 red; 1 red, 2 green, 6 blue; 2 green\n",
      "Game 2: 1 blue, 2 green; 3 green, 4 blue, 1 red; 1 green, 1 blue\n",
      "Game 3: 8 green, 6 blue, 20 red; 5 blue, 4 red, 13 green; 5 green, 1 red\n",
      "Game 4: 1 green, 3 red, 6 blue; 3 green, 6 red; 3 green, 15 blue, 14 red\n",
      "Game 5: 6 red, 1 blue, 3 green; 2 blue, 1 red, 2 green\n"
     ]
    }
   ],
   "source": [
    "full = False\n",
    "input_file = 'input_full.txt' if full else 'input_example.txt'\n",
    "\n",
    "with open(input_file) as file:\n",
    "    lines = file.read().splitlines()\n",
    "\n",
    "if not(full):\n",
    "    [print(line) for line in lines]\n"
   ]
  },
  {
   "cell_type": "code",
   "execution_count": 33,
   "metadata": {},
   "outputs": [
    {
     "name": "stdout",
     "output_type": "stream",
     "text": [
      "8\n"
     ]
    }
   ],
   "source": [
    "games = []\n",
    "for line in lines:\n",
    "    game_id = int(line.split(':')[0][5:])\n",
    "    game_sets = line.split(': ')[1].split('; ')\n",
    "    game_sets_list = []\n",
    "    for game_set in game_sets:\n",
    "        colors = game_set.split(', ')\n",
    "        colors_dict = {color.split(' ')[1]: int(color.split(' ')[0])  for color in colors}\n",
    "        game_sets_list += [colors_dict]\n",
    "    games += [game_sets_list]\n",
    "\n",
    "color_max = {\n",
    "    'red': 12,\n",
    "    'green': 13,\n",
    "    'blue': 14,\n",
    "}\n",
    "\n",
    "valid_games = []\n",
    "for i, game in enumerate(games):\n",
    "    game_id = i+1\n",
    "    color_counts = {}\n",
    "    for game_set in game:\n",
    "        for color, count in game_set.items():\n",
    "            if color in color_counts.keys():\n",
    "                color_counts[color] = color_counts[color] + count\n",
    "            else:\n",
    "                color_counts[color] = count\n",
    "    valid = True\n",
    "    for color, color_count_max in color_max.items():\n",
    "        if color_counts[color] > color_count_max:\n",
    "            valid = False\n",
    "            break\n",
    "    if valid:\n",
    "        valid_games += [game_id]\n",
    "print(sum(valid_games))"
   ]
  }
 ],
 "metadata": {
  "kernelspec": {
   "display_name": "Python 3",
   "language": "python",
   "name": "python3"
  },
  "language_info": {
   "codemirror_mode": {
    "name": "ipython",
    "version": 3
   },
   "file_extension": ".py",
   "mimetype": "text/x-python",
   "name": "python",
   "nbconvert_exporter": "python",
   "pygments_lexer": "ipython3",
   "version": "3.9.4"
  }
 },
 "nbformat": 4,
 "nbformat_minor": 2
}
