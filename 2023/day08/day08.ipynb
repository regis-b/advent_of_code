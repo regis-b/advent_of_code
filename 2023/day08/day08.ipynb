{
 "cells": [
  {
   "cell_type": "code",
   "execution_count": 1,
   "metadata": {},
   "outputs": [
    {
     "name": "stdout",
     "output_type": "stream",
     "text": [
      "LR\n",
      "\n",
      "11A = (11B, XXX)\n",
      "11B = (XXX, 11Z)\n",
      "11Z = (11B, XXX)\n",
      "22A = (22B, XXX)\n",
      "22B = (22C, 22C)\n",
      "22C = (22Z, 22Z)\n",
      "22Z = (22B, 22B)\n",
      "XXX = (XXX, XXX)\n"
     ]
    }
   ],
   "source": [
    "full = False\n",
    "input_file = 'input_full.txt' if full else 'input_example.txt'\n",
    "\n",
    "with open(input_file) as file:\n",
    "    lines = file.read()\n",
    "\n",
    "if not full:\n",
    "    [print(line) for line in lines.split('\\n')]\n",
    "\n",
    "# lines = [line for line in lines.split('\\n')]"
   ]
  },
  {
   "cell_type": "code",
   "execution_count": 145,
   "metadata": {},
   "outputs": [],
   "source": [
    "directions = [int(direction.replace('L', '0').replace('R', '1')) for direction in lines[0]]\n",
    "\n",
    "nodes_dict = {line[0]: (line[1].split(', ')[0][1:], line[1].split(', ')[1][:-1]) for line in [line.split(' = ') for line in lines[2:]]}"
   ]
  },
  {
   "cell_type": "code",
   "execution_count": 146,
   "metadata": {},
   "outputs": [
    {
     "name": "stdout",
     "output_type": "stream",
     "text": [
      "13019\n"
     ]
    }
   ],
   "source": [
    "node = 'AAA'\n",
    "i = 0\n",
    "while node != 'ZZZ':\n",
    "    # print(node)\n",
    "    direction = directions[i % len(directions)]\n",
    "    node = nodes_dict[node][direction]\n",
    "    # print(direction, node)\n",
    "    i += 1\n",
    "print(i)\n"
   ]
  },
  {
   "cell_type": "code",
   "execution_count": 149,
   "metadata": {},
   "outputs": [
    {
     "name": "stdout",
     "output_type": "stream",
     "text": [
      "16343\n",
      "11911\n",
      "20221\n",
      "21883\n",
      "13019\n",
      "19667\n"
     ]
    }
   ],
   "source": [
    "for node_A in [node for node in nodes_dict.keys() if node[-1] == 'A']:\n",
    "    node, i = node_A, 0\n",
    "    while node[-1] != 'Z':\n",
    "        node = nodes_dict[node][directions[i % len(directions)]]\n",
    "        i += 1\n",
    "    print(i)"
   ]
  },
  {
   "cell_type": "code",
   "execution_count": 148,
   "metadata": {},
   "outputs": [
    {
     "data": {
      "text/plain": [
       "13524038372771"
      ]
     },
     "execution_count": 148,
     "metadata": {},
     "output_type": "execute_result"
    }
   ],
   "source": [
    "# 16343 = 59 * 277\n",
    "# 11911 = 43 * 277\n",
    "# 20221 = 73 * 277\n",
    "# 21883 = 79 * 277\n",
    "# 13019 = 47 * 277\n",
    "# 19667 = 71 * 277\n",
    "59 * 43 * 73 * 79 * 47 * 71 * 277"
   ]
  }
 ],
 "metadata": {
  "kernelspec": {
   "display_name": "Python 3",
   "language": "python",
   "name": "python3"
  },
  "language_info": {
   "codemirror_mode": {
    "name": "ipython",
    "version": 3
   },
   "file_extension": ".py",
   "mimetype": "text/x-python",
   "name": "python",
   "nbconvert_exporter": "python",
   "pygments_lexer": "ipython3",
   "version": "3.9.4"
  }
 },
 "nbformat": 4,
 "nbformat_minor": 2
}
