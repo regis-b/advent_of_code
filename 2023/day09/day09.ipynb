{
 "cells": [
  {
   "cell_type": "code",
   "execution_count": 39,
   "metadata": {},
   "outputs": [],
   "source": [
    "full = True\n",
    "input_file = 'input_full.txt' if full else 'input_example.txt'\n",
    "\n",
    "with open(input_file) as file:\n",
    "    lines = file.read()\n",
    "\n",
    "lines = [[int(i) for i in line.split(' ')] for line in lines.split('\\n')]"
   ]
  },
  {
   "cell_type": "code",
   "execution_count": 40,
   "metadata": {},
   "outputs": [
    {
     "name": "stdout",
     "output_type": "stream",
     "text": [
      "Part 1: 1974232246\n"
     ]
    }
   ],
   "source": [
    "def get_next_value(seq):\n",
    "    if all([x == 0 for x in seq]):\n",
    "        return 0\n",
    "    next_value = get_next_value([seq[i+1] - seq[i] for i in range(len(seq)-1)])\n",
    "    return seq[-1] + next_value\n",
    "\n",
    "print('Part 1:', sum([get_next_value(line) for line in lines]))"
   ]
  },
  {
   "cell_type": "code",
   "execution_count": 41,
   "metadata": {},
   "outputs": [
    {
     "name": "stdout",
     "output_type": "stream",
     "text": [
      "Part 2: 928\n"
     ]
    }
   ],
   "source": [
    "def get_previous_value(seq):\n",
    "    if all([x == 0 for x in seq]):\n",
    "        return 0\n",
    "    previous_value = get_previous_value([seq[i+1] - seq[i] for i in range(len(seq)-1)])\n",
    "    return seq[0] - previous_value\n",
    "\n",
    "print('Part 2:', sum([get_previous_value(line) for line in lines]))"
   ]
  }
 ],
 "metadata": {
  "kernelspec": {
   "display_name": "Python 3",
   "language": "python",
   "name": "python3"
  },
  "language_info": {
   "codemirror_mode": {
    "name": "ipython",
    "version": 3
   },
   "file_extension": ".py",
   "mimetype": "text/x-python",
   "name": "python",
   "nbconvert_exporter": "python",
   "pygments_lexer": "ipython3",
   "version": "3.9.4"
  }
 },
 "nbformat": 4,
 "nbformat_minor": 2
}
