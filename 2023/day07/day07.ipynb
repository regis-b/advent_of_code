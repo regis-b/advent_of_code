{
 "cells": [
  {
   "cell_type": "code",
   "execution_count": 166,
   "metadata": {},
   "outputs": [],
   "source": [
    "full = True\n",
    "input_file = 'input_full.txt' if full else 'input_example.txt'\n",
    "\n",
    "with open(input_file) as file:\n",
    "    lines = file.read()\n",
    "\n",
    "lines = [line for line in lines.split('\\n')]"
   ]
  },
  {
   "cell_type": "code",
   "execution_count": 187,
   "metadata": {},
   "outputs": [
    {
     "name": "stdout",
     "output_type": "stream",
     "text": [
      "Part 1: 248113761\n"
     ]
    }
   ],
   "source": [
    "def convert_list_to_string(l):\n",
    "    return ''.join([str(x) if x>9 else '0' + str(x) for x in l])\n",
    "\n",
    "strengths = {card: 13-i for i, card in enumerate(['A', 'K', 'Q', 'J', 'T', '9', '8', '7', '6', '5', '4', '3', '2'])}\n",
    "hands = [[strengths[c] for c in  line.split(' ')[0]] for line in lines]\n",
    "bids = [int(line.split(' ')[1]) for line in lines]\n",
    "\n",
    "results = {}\n",
    "\n",
    "for hand, bid in zip(hands, bids):\n",
    "    counts = {card: 0 for card in strengths.values()}\n",
    "    for card in hand:\n",
    "        counts[card] += 1\n",
    "\n",
    "    five_of_a_kind = 5 in counts.values()\n",
    "    four_of_a_kind = 4 in counts.values()\n",
    "    full_house = (3 in counts.values() and 2 in counts.values())\n",
    "    three_of_a_kind = (3 in counts.values() and not(2 in counts.values()))\n",
    "    two_pairs = (len([nb for nb in counts.values() if nb==2]) == 2)\n",
    "    one_pair = (len([nb for nb in counts.values() if nb==2]) == 1 and len([nb for nb in counts.values() if nb==1]) == 3)\n",
    "    high_card = len([nb for nb in counts.values() if nb==1]) == 5\n",
    "\n",
    "    result = [five_of_a_kind, four_of_a_kind, full_house, three_of_a_kind, two_pairs, one_pair, high_card]\n",
    "    str_to_be_ranked = [str(7-i) for i, x in enumerate(result) if x][0]\n",
    "    str_to_be_ranked += convert_list_to_string(hand)\n",
    "    results[str_to_be_ranked] = bid\n",
    "\n",
    "print('Part 1:', sum([i * results[result] for i, result in enumerate(sorted(results.keys()), 1)]))"
   ]
  },
  {
   "cell_type": "code",
   "execution_count": 189,
   "metadata": {},
   "outputs": [
    {
     "name": "stdout",
     "output_type": "stream",
     "text": [
      "Part 2: 246285222\n"
     ]
    }
   ],
   "source": [
    "strengths = {card: 13-i for i, card in enumerate(['A', 'K', 'Q', 'T', '9', '8', '7', '6', '5', '4', '3', '2', 'J'])}\n",
    "hands = [[strengths[c] for c in  line.split(' ')[0]] for line in lines]\n",
    "\n",
    "results = {}\n",
    "\n",
    "for hand, bid, line in zip(hands, bids, lines):\n",
    "    counts = {card: 0 for card in strengths.values()}\n",
    "    for card in hand:\n",
    "        counts[card] += 1\n",
    "\n",
    "    nb_jokers = counts[1]\n",
    "    \n",
    "    five_of_a_kind = ((5 - nb_jokers) in counts.values()) or (nb_jokers == 5)\n",
    "\n",
    "    if nb_jokers == 0:\n",
    "        four_of_a_kind = (4 in counts.values())\n",
    "    elif nb_jokers == 1:\n",
    "        four_of_a_kind = (3 in counts.values())\n",
    "    elif nb_jokers == 2:\n",
    "        four_of_a_kind = (len([nb for nb in counts.values() if nb==2]) == 2)\n",
    "    elif nb_jokers == 3:\n",
    "        four_of_a_kind = (len([nb for nb in counts.values() if nb==1]) == 2)\n",
    "    else:\n",
    "        four_of_a_kind = False\n",
    "\n",
    "    if nb_jokers == 0:\n",
    "        full_house = (3 in counts.values() and 2 in counts.values())\n",
    "    elif nb_jokers == 1:\n",
    "        full_house = (len([nb for nb in counts.values() if nb==2]) == 2)\n",
    "    else:\n",
    "        full_house = False\n",
    "    \n",
    "    if nb_jokers == 0:\n",
    "        three_of_a_kind = (3 in counts.values() and not(2 in counts.values()))\n",
    "    elif nb_jokers in [1, 2]:\n",
    "        three_of_a_kind = (len([nb for nb in counts.values() if nb==2]) == 1 and len([nb for nb in counts.values() if nb==1]) == 3)\n",
    "    else:\n",
    "        three_of_a_kind = False\n",
    "    \n",
    "    if nb_jokers == 0:\n",
    "        two_pairs = (len([nb for nb in counts.values() if nb==2]) == 2)\n",
    "    else:\n",
    "        two_pairs = False\n",
    "\n",
    "    if nb_jokers == 0:\n",
    "        one_pair = (len([nb for nb in counts.values() if nb==2]) == 1 and len([nb for nb in counts.values() if nb==1]) == 3)\n",
    "    elif nb_jokers == 1:\n",
    "        one_pair = (len([nb for nb in counts.values() if nb==1]) == 5)\n",
    "    else:\n",
    "        one_pair = False\n",
    "\n",
    "    if nb_jokers == 0:\n",
    "        high_card = (len([nb for nb in counts.values() if nb==1]) == 5)\n",
    "    else:\n",
    "        high_card = False\n",
    "\n",
    "    result = [five_of_a_kind, four_of_a_kind, full_house, three_of_a_kind, two_pairs, one_pair, high_card]\n",
    "    str_to_be_ranked = [str(7-i) for i, x in enumerate(result) if x][0]\n",
    "    str_to_be_ranked += convert_list_to_string(hand)\n",
    "\n",
    "    results[str_to_be_ranked] = bid\n",
    "\n",
    "print('Part 2:', sum([i * results[res] for i, res in enumerate(sorted(results.keys()), 1)]))"
   ]
  }
 ],
 "metadata": {
  "kernelspec": {
   "display_name": "Python 3",
   "language": "python",
   "name": "python3"
  },
  "language_info": {
   "codemirror_mode": {
    "name": "ipython",
    "version": 3
   },
   "file_extension": ".py",
   "mimetype": "text/x-python",
   "name": "python",
   "nbconvert_exporter": "python",
   "pygments_lexer": "ipython3",
   "version": "3.9.4"
  }
 },
 "nbformat": 4,
 "nbformat_minor": 2
}
