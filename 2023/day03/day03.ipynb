{
 "cells": [
  {
   "cell_type": "code",
   "execution_count": 115,
   "metadata": {},
   "outputs": [],
   "source": [
    "import itertools\n",
    "full = False\n",
    "input_file = 'input_full.txt' if full else 'input_example.txt'\n",
    "\n",
    "with open(input_file) as file:\n",
    "    lines = file.read().splitlines()\n",
    "\n",
    "nrows, ncols = len(lines), len(lines[1])"
   ]
  },
  {
   "cell_type": "code",
   "execution_count": 116,
   "metadata": {},
   "outputs": [
    {
     "name": "stdout",
     "output_type": "stream",
     "text": [
      "Part 1: 4361\n"
     ]
    }
   ],
   "source": [
    "def is_symbol(c):\n",
    "    return c != '.' and not(c.isdigit())\n",
    "\n",
    "def is_adjacent_to_symbol(rowi, coli):\n",
    "    shifts = [(row_shift, col_shift) for row_shift in [-1, 0, 1] for col_shift in [-1, 0, 1] if (row_shift !=0) or (col_shift !=0)]\n",
    "    for (row_shift, col_shift) in shifts:\n",
    "        if (rowi + row_shift) > 0 and (rowi + row_shift) < (nrows-1) and (coli + col_shift) > 0 and (coli + col_shift) < (ncols-1):\n",
    "            if is_symbol(lines[rowi + row_shift][coli + col_shift]):\n",
    "                return True\n",
    "    return False\n",
    "\n",
    "result = 0\n",
    "number, is_part = '', False\n",
    "for (rowi, coli) in list(itertools.product(range(nrows), range(ncols))):\n",
    "    if lines[rowi][coli].isdigit():\n",
    "        number += lines[rowi][coli]\n",
    "        if is_adjacent_to_symbol(rowi, coli):\n",
    "            is_part = True\n",
    "        if coli == (ncols-1) or not(lines[rowi][coli+1].isdigit()):\n",
    "            if is_part:\n",
    "                result += int(number)\n",
    "            number, is_part = '', False\n",
    "print('Part 1:', result)"
   ]
  },
  {
   "cell_type": "code",
   "execution_count": 117,
   "metadata": {},
   "outputs": [
    {
     "name": "stdout",
     "output_type": "stream",
     "text": [
      "Part 2: 467835\n"
     ]
    }
   ],
   "source": [
    "def get_adjacent_gears(rowi, coli):\n",
    "    adjacent_gears = []\n",
    "    shifts = [(row_shift, col_shift) for row_shift in [-1, 0, 1] for col_shift in [-1, 0, 1] if (row_shift !=0) or (col_shift !=0)]\n",
    "    for (row_shift, col_shift) in shifts:\n",
    "        if (rowi + row_shift) > 0 and (rowi + row_shift) < (nrows-1) and (coli + col_shift) > 0 and (coli + col_shift) < (ncols-1):\n",
    "            if lines[rowi + row_shift][coli + col_shift] == '*':\n",
    "                adjacent_gears += [(rowi + row_shift, coli + col_shift)]\n",
    "    return adjacent_gears\n",
    "\n",
    "number, adjacent_gears = '', []\n",
    "gears = {}\n",
    "for (rowi, coli) in list(itertools.product(range(nrows), range(ncols))):\n",
    "    if lines[rowi][coli].isdigit():\n",
    "        number += lines[rowi][coli]\n",
    "        adjacent_gears += get_adjacent_gears(rowi, coli)\n",
    "        if coli == (ncols-1) or not(lines[rowi][coli+1].isdigit()):\n",
    "            adjacent_gears = set(adjacent_gears)\n",
    "            for gear in adjacent_gears:\n",
    "                gears[gear] = gears.get(gear, []) + [int(number)]\n",
    "            number, adjacent_gears = '', []\n",
    "\n",
    "print('Part 2:', sum([parts[0]*parts[1] for gear, parts in gears.items() if len(parts) == 2]))"
   ]
  }
 ],
 "metadata": {
  "kernelspec": {
   "display_name": "Python 3",
   "language": "python",
   "name": "python3"
  },
  "language_info": {
   "codemirror_mode": {
    "name": "ipython",
    "version": 3
   },
   "file_extension": ".py",
   "mimetype": "text/x-python",
   "name": "python",
   "nbconvert_exporter": "python",
   "pygments_lexer": "ipython3",
   "version": "3.9.4"
  }
 },
 "nbformat": 4,
 "nbformat_minor": 2
}
