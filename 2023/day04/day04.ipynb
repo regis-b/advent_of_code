{
 "cells": [
  {
   "cell_type": "code",
   "execution_count": 19,
   "metadata": {},
   "outputs": [],
   "source": [
    "full = True\n",
    "input_file = 'input_full.txt' if full else 'input_example.txt'\n",
    "\n",
    "with open(input_file) as file:\n",
    "    lines = file.read().splitlines()"
   ]
  },
  {
   "cell_type": "code",
   "execution_count": 20,
   "metadata": {},
   "outputs": [
    {
     "name": "stdout",
     "output_type": "stream",
     "text": [
      "Part 1: 21821\n"
     ]
    }
   ],
   "source": [
    "lines = [line.split(': ')[1].split(' | ') for line in lines]\n",
    "lines = [[[int(i) for i in serie.split(' ') if i != ''] for serie in line] for line in lines]\n",
    "lines = [len([i for i in line[0] if i in line[1]]) for line in lines]\n",
    "print('Part 1:', sum([2**(line-1) for line in lines if line != 0]))"
   ]
  },
  {
   "cell_type": "code",
   "execution_count": 25,
   "metadata": {},
   "outputs": [
    {
     "name": "stdout",
     "output_type": "stream",
     "text": [
      "Part 2: 5539496\n"
     ]
    }
   ],
   "source": [
    "cards = {i:1 for i in range(1, len(lines)+1)}\n",
    "for card_id, nb_matching_numbers in enumerate(lines, 1):\n",
    "    for i in range(1, nb_matching_numbers+1):\n",
    "        cards[card_id+i] += cards[card_id]\n",
    "print(f'Part 2: {sum(cards.values())}')"
   ]
  }
 ],
 "metadata": {
  "kernelspec": {
   "display_name": "Python 3",
   "language": "python",
   "name": "python3"
  },
  "language_info": {
   "codemirror_mode": {
    "name": "ipython",
    "version": 3
   },
   "file_extension": ".py",
   "mimetype": "text/x-python",
   "name": "python",
   "nbconvert_exporter": "python",
   "pygments_lexer": "ipython3",
   "version": "3.9.4"
  }
 },
 "nbformat": 4,
 "nbformat_minor": 2
}
