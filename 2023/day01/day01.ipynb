{
 "cells": [
  {
   "cell_type": "code",
   "execution_count": 3,
   "metadata": {},
   "outputs": [
    {
     "name": "stdout",
     "output_type": "stream",
     "text": [
      "Part 1: 54390\n",
      "Part 2: 54277\n"
     ]
    }
   ],
   "source": [
    "full = True\n",
    "input_file = 'input_full.txt' if full else 'input_example.txt'\n",
    "\n",
    "with open(input_file) as file:\n",
    "    lines = file.read().splitlines()\n",
    "\n",
    "int_dict = {word: str(i+1) for i, word in enumerate(['one', 'two', 'three', 'four', 'five', 'six', 'seven', 'eight', 'nine'])}\n",
    "\n",
    "def starts_with_worddigit(text):\n",
    "    for word, digit in int_dict.items():\n",
    "        if text.startswith(word):\n",
    "            return digit\n",
    "\n",
    "def word_to_digit(text, part):\n",
    "    result = ''\n",
    "    for i, c in enumerate(text):\n",
    "        if c in int_dict.values():\n",
    "            result += c\n",
    "        elif (part == 2) and (digit := starts_with_worddigit(text[i:])):\n",
    "            result += digit\n",
    "    return result\n",
    "\n",
    "def process(lines, part):\n",
    "    lines = [word_to_digit(line, part) for line in lines]\n",
    "    return sum([int((line[0]+line[-1])) for line in lines])\n",
    "\n",
    "print('Part 1:', process(lines, part=1))\n",
    "print('Part 2:', process(lines, part=2))"
   ]
  }
 ],
 "metadata": {
  "kernelspec": {
   "display_name": "Python 3",
   "language": "python",
   "name": "python3"
  },
  "language_info": {
   "codemirror_mode": {
    "name": "ipython",
    "version": 3
   },
   "file_extension": ".py",
   "mimetype": "text/x-python",
   "name": "python",
   "nbconvert_exporter": "python",
   "pygments_lexer": "ipython3",
   "version": "3.9.4"
  },
  "orig_nbformat": 4,
  "vscode": {
   "interpreter": {
    "hash": "0f9fe7654c201a2f0e5a846a57c518c35e6a2afb02af181997bf343144989e50"
   }
  }
 },
 "nbformat": 4,
 "nbformat_minor": 2
}
