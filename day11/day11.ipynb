{
 "cells": [
  {
   "cell_type": "code",
   "execution_count": 18,
   "metadata": {},
   "outputs": [
    {
     "name": "stdout",
     "output_type": "stream",
     "text": [
      "{0: {'items': [91, 58, 52, 69, 95, 54], 'operation': 'old*13', 'divisible_by': 7, 'send_to_if_true': 1, 'send_to_if_false': 5, 'nb_inspections': 0}, 1: {'items': [80, 80, 97, 84], 'operation': 'old*old', 'divisible_by': 3, 'send_to_if_true': 3, 'send_to_if_false': 5, 'nb_inspections': 0}, 2: {'items': [86, 92, 71], 'operation': 'old+7', 'divisible_by': 2, 'send_to_if_true': 0, 'send_to_if_false': 4, 'nb_inspections': 0}, 3: {'items': [96, 90, 99, 76, 79, 85, 98, 61], 'operation': 'old+4', 'divisible_by': 11, 'send_to_if_true': 7, 'send_to_if_false': 6, 'nb_inspections': 0}, 4: {'items': [60, 83, 68, 64, 73], 'operation': 'old*19', 'divisible_by': 17, 'send_to_if_true': 1, 'send_to_if_false': 0, 'nb_inspections': 0}, 5: {'items': [96, 52, 52, 94, 76, 51, 57], 'operation': 'old+3', 'divisible_by': 5, 'send_to_if_true': 7, 'send_to_if_false': 3, 'nb_inspections': 0}, 6: {'items': [75], 'operation': 'old+5', 'divisible_by': 13, 'send_to_if_true': 4, 'send_to_if_false': 2, 'nb_inspections': 0}, 7: {'items': [83, 75], 'operation': 'old+1', 'divisible_by': 19, 'send_to_if_true': 2, 'send_to_if_false': 6, 'nb_inspections': 0}}\n"
     ]
    }
   ],
   "source": [
    "# Open input file\n",
    "with open('input.txt') as file:\n",
    "    lines = file.readlines()\n",
    "lines = [line.replace('\\n', '') for line in lines]\n",
    "lines = [line.split(':') for line in lines]\n",
    "\n",
    "initial_dict = {}\n",
    "for line in lines:\n",
    "    if line[0].startswith('Monkey'):\n",
    "        monkey_nbr = int(line[0].split(' ')[1])\n",
    "    elif line[0] == '  Starting items':\n",
    "        items = [int(i) for i in line[1].replace(' ', '').split(',')]\n",
    "    elif line[0] == '  Operation':\n",
    "        op_str = line[1].replace(' ', '')[4:]\n",
    "    elif line[0] == '  Test':\n",
    "        divisible_by = int(line[1][14:])\n",
    "    elif line[0] == '    If true':\n",
    "        send_to_if_true = int(line[1][17:])\n",
    "    elif line[0] == '    If false':\n",
    "        send_to_if_false = int(line[1][17:])\n",
    "        initial_dict[monkey_nbr] = {\n",
    "            'items': items,\n",
    "            'operation': op_str,\n",
    "            'divisible_by': divisible_by,\n",
    "            'send_to_if_true': send_to_if_true,\n",
    "            'send_to_if_false': send_to_if_false,\n",
    "            'nb_inspections': 0,\n",
    "        }\n",
    "print(initial_dict)"
   ]
  },
  {
   "cell_type": "code",
   "execution_count": 29,
   "metadata": {},
   "outputs": [],
   "source": [
    "# Part 1\n",
    "def apply_operation(operation, item_old):\n",
    "    if operation == 'old*old':\n",
    "        return int(item_old**2 / 3)\n",
    "    elif operation.startswith('old*'):\n",
    "        return int(item_old * int(operation[4:]) / 3)\n",
    "    elif operation.startswith('old+'):\n",
    "        return int((item_old + int(operation[4:])) / 3)\n",
    "\n",
    "d = initial_dict.copy()\n",
    "for round_nbr in range(1, 21):\n",
    "    for monkey in d.keys():\n",
    "        monkey_dict = d[monkey].copy()\n",
    "        for item_old in monkey_dict['items']:\n",
    "            d[monkey]['nb_inspections'] = d[monkey]['nb_inspections'] + 1\n",
    "            operation = monkey_dict['operation']\n",
    "            divisible_by = monkey_dict['divisible_by']\n",
    "            item_new = apply_operation(operation, item_old)\n",
    "            if (item_new % divisible_by) == 0:\n",
    "                monkey_to = monkey_dict['send_to_if_true']\n",
    "            else:\n",
    "                monkey_to = monkey_dict['send_to_if_false']\n",
    "            \n",
    "            d[monkey]['items'] = d[monkey]['items'][1:]\n",
    "            d[monkey_to]['items'] = d[monkey_to]['items'] + [item_new]\n",
    "inspections = []               \n",
    "for k,v in d.items():\n",
    "    inspections += [v['nb_inspections']]\n",
    "    print(f\"monkey {k} did {v['nb_inspections']} inspections\")\n",
    "inspections.sort(reverse=True)\n",
    "\n",
    "print(f'\\nmonkey business level = {inspections[0] * inspections[1]}')"
   ]
  },
  {
   "cell_type": "code",
   "execution_count": 30,
   "metadata": {},
   "outputs": [
    {
     "name": "stdout",
     "output_type": "stream",
     "text": [
      "monkey 0 did 467182 inspections\n",
      "monkey 1 did 95254 inspections\n",
      "monkey 2 did 452835 inspections\n",
      "monkey 3 did 428886 inspections\n",
      "monkey 4 did 228739 inspections\n",
      "monkey 5 did 438609 inspections\n",
      "monkey 6 did 486185 inspections\n",
      "monkey 7 did 90661 inspections\n",
      "\n",
      "monkey business level = 227136880670\n"
     ]
    }
   ],
   "source": [
    "# Part 2\n",
    "\n",
    "d = initial_dict.copy()\n",
    "\n",
    "def apply_operation(operation, item_old):\n",
    "    if operation == 'old*old':\n",
    "        return item_old**2\n",
    "    elif operation.startswith('old*'):\n",
    "        return (item_old * int(operation[4:]))\n",
    "    elif operation.startswith('old+'):\n",
    "        return (item_old + int(operation[4:]))\n",
    "\n",
    "for round_nbr in range(1, 10001):\n",
    "    for monkey, xxx in d.items():\n",
    "        monkey_dict = d[monkey].copy()\n",
    "        for item_old in monkey_dict['items']:\n",
    "            d[monkey]['nb_inspections'] = d[monkey]['nb_inspections'] + 1\n",
    "            operation = monkey_dict['operation']\n",
    "            divisible_by = monkey_dict['divisible_by']\n",
    "            item_new = apply_operation(operation, item_old)\n",
    "            if (item_new % divisible_by) == 0:\n",
    "                monkey_to = monkey_dict['send_to_if_true']\n",
    "            else:\n",
    "                monkey_to = monkey_dict['send_to_if_false']\n",
    "            # NEW PROTECTION RULE\n",
    "            if item_new > (2*3*5*7*11*13*17*19+1):\n",
    "                item_new = item_new % (2*3*5*7*11*13*17*19)\n",
    "\n",
    "            d[monkey]['items'] = d[monkey]['items'][1:]\n",
    "            d[monkey_to]['items'] = d[monkey_to]['items'] + [item_new]\n",
    "                \n",
    "d\n",
    "\n",
    "for k,v in d.items():\n",
    "    inspections += [v['nb_inspections']]\n",
    "    print(f\"monkey {k} did {v['nb_inspections']} inspections\")\n",
    "inspections.sort(reverse=True)\n",
    "\n",
    "print(f'\\nmonkey business level = {inspections[0] * inspections[1]}')"
   ]
  },
  {
   "cell_type": "code",
   "execution_count": null,
   "metadata": {},
   "outputs": [],
   "source": []
  }
 ],
 "metadata": {
  "kernelspec": {
   "display_name": "Python 3.9.4 64-bit",
   "language": "python",
   "name": "python3"
  },
  "language_info": {
   "codemirror_mode": {
    "name": "ipython",
    "version": 3
   },
   "file_extension": ".py",
   "mimetype": "text/x-python",
   "name": "python",
   "nbconvert_exporter": "python",
   "pygments_lexer": "ipython3",
   "version": "3.9.4"
  },
  "orig_nbformat": 4,
  "vscode": {
   "interpreter": {
    "hash": "0f9fe7654c201a2f0e5a846a57c518c35e6a2afb02af181997bf343144989e50"
   }
  }
 },
 "nbformat": 4,
 "nbformat_minor": 2
}
