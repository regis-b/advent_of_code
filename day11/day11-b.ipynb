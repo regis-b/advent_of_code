{
 "cells": [
  {
   "cell_type": "code",
   "execution_count": 12,
   "metadata": {},
   "outputs": [
    {
     "data": {
      "text/plain": [
       "{0: {'items': [58960,\n",
       "   465261,\n",
       "   2113819413259,\n",
       "   57646185854,\n",
       "   57646185854,\n",
       "   16128192580188,\n",
       "   24390612813348814848,\n",
       "   10315804],\n",
       "  'operation': 'old*19',\n",
       "  'divisible_by': 23,\n",
       "  'send_to_if_true': 2,\n",
       "  'send_to_if_false': 3,\n",
       "  'nb_inspections': 101},\n",
       " 1: {'items': [425796, 650321034184],\n",
       "  'operation': 'old+6',\n",
       "  'divisible_by': 19,\n",
       "  'send_to_if_true': 2,\n",
       "  'send_to_if_false': 0,\n",
       "  'nb_inspections': 95},\n",
       " 2: {'items': [],\n",
       "  'operation': 'old*old',\n",
       "  'divisible_by': 13,\n",
       "  'send_to_if_true': 1,\n",
       "  'send_to_if_false': 3,\n",
       "  'nb_inspections': 10},\n",
       " 3: {'items': [],\n",
       "  'operation': 'old+3',\n",
       "  'divisible_by': 17,\n",
       "  'send_to_if_true': 0,\n",
       "  'send_to_if_false': 1,\n",
       "  'nb_inspections': 104}}"
      ]
     },
     "execution_count": 12,
     "metadata": {},
     "output_type": "execute_result"
    }
   ],
   "source": [
    "# Part 1\n",
    "import pandas as pd\n",
    "import numpy as np\n",
    "\n",
    "# Open input file\n",
    "with open('input.txt') as file:\n",
    "    lines = file.readlines()\n",
    "lines = [line.replace('\\n', '') for line in lines]\n",
    "lines = [line.split(':') for line in lines]\n",
    "\n",
    "d = {}\n",
    "for line in lines:\n",
    "    if line[0].startswith('Monkey'):\n",
    "        monkey_nbr = int(line[0].split(' ')[1])\n",
    "    elif line[0] == '  Starting items':\n",
    "        items = [int(i) for i in line[1].replace(' ', '').split(',')]\n",
    "    elif line[0] == '  Operation':\n",
    "        op_str = line[1].replace(' ', '')[4:]\n",
    "    elif line[0] == '  Test':\n",
    "        divisible_by = int(line[1][14:])\n",
    "    elif line[0] == '    If true':\n",
    "        send_to_if_true = int(line[1][17:])\n",
    "    elif line[0] == '    If false':\n",
    "        send_to_if_false = int(line[1][17:])\n",
    "        d[monkey_nbr] = {\n",
    "            'items': items,\n",
    "            'operation': op_str,\n",
    "            'divisible_by': divisible_by,\n",
    "            'send_to_if_true': send_to_if_true,\n",
    "            'send_to_if_false': send_to_if_false,\n",
    "            'nb_inspections': 0,\n",
    "        }\n",
    "d\n",
    "\n",
    "def apply_operation(operation, item_old):\n",
    "    divideby = 2\n",
    "    if operation == 'old*old':\n",
    "        return int(item_old**2 / divideby)\n",
    "    elif operation.startswith('old*'):\n",
    "        return int(item_old * int(operation[4:]) / divideby)\n",
    "    elif operation.startswith('old+'):\n",
    "        return int((item_old + int(operation[4:])) / divideby)\n",
    "\n",
    "for round_nbr in range(1, 21):\n",
    "    # print(f'round:{round_nbr}')\n",
    "    for monkey, xxx in d.items():\n",
    "        # print(monkey)\n",
    "        monkey_dict = d[monkey].copy()\n",
    "        for item_old in monkey_dict['items']:\n",
    "            d[monkey]['nb_inspections'] = d[monkey]['nb_inspections'] + 1\n",
    "            operation = monkey_dict['operation']\n",
    "            divisible_by = monkey_dict['divisible_by']\n",
    "            item_new = apply_operation(operation, item_old)\n",
    "            # print(f'{item_old} => {item_new}  {(item_new % divisible_by) == 0}')\n",
    "            if (item_new % divisible_by) == 0:\n",
    "                monkey_to = monkey_dict['send_to_if_true']\n",
    "            else:\n",
    "                monkey_to = monkey_dict['send_to_if_false']\n",
    "            \n",
    "            d[monkey]['items'] = d[monkey]['items'][1:]\n",
    "            d[monkey_to]['items'] = d[monkey_to]['items'] + [item_new]\n",
    "                \n",
    "d"
   ]
  }
 ],
 "metadata": {
  "kernelspec": {
   "display_name": "Python 3.9.4 64-bit",
   "language": "python",
   "name": "python3"
  },
  "language_info": {
   "codemirror_mode": {
    "name": "ipython",
    "version": 3
   },
   "file_extension": ".py",
   "mimetype": "text/x-python",
   "name": "python",
   "nbconvert_exporter": "python",
   "pygments_lexer": "ipython3",
   "version": "3.9.4 (tags/v3.9.4:1f2e308, Apr  6 2021, 13:40:21) [MSC v.1928 64 bit (AMD64)]"
  },
  "orig_nbformat": 4,
  "vscode": {
   "interpreter": {
    "hash": "0f9fe7654c201a2f0e5a846a57c518c35e6a2afb02af181997bf343144989e50"
   }
  }
 },
 "nbformat": 4,
 "nbformat_minor": 2
}
