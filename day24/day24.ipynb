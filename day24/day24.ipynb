{
 "cells": [
  {
   "cell_type": "code",
   "execution_count": 7,
   "metadata": {},
   "outputs": [],
   "source": [
    "import copy\n",
    "\n",
    "full = True\n",
    "input_file = 'input_full.txt' if full else 'input_example.txt'\n",
    "\n",
    "with open(input_file) as file:\n",
    "    lines = file.readlines()\n",
    "lines = [list(line.strip()) for line in lines]\n",
    "map = lines\n",
    "\n",
    "# Remove borders\n",
    "nb_rows = len(lines)\n",
    "nb_cols = len(lines[0])\n",
    "map = [row[1:nb_cols-1] for row in map[1:nb_rows-1]]\n",
    "nb_rows = len(map)\n",
    "nb_cols = len(map[0])\n",
    "# Initialize dictionaries of blizzards (positions and directions)\n",
    "blizzards_coord = {}\n",
    "blizzards_dir = {}\n",
    "for rowid in range(0, nb_rows):\n",
    "    for colid in range(0, nb_cols):\n",
    "        if map[rowid][colid] in ['>', '<', 'v', '^']:\n",
    "            blizzards_coord[(rowid, colid)] = (rowid, colid)\n",
    "            blizzards_dir[(rowid, colid)] = map[rowid][colid]\n",
    "\n",
    "empty_map = [[['.'] for _ in range(nb_cols)] for _ in range(nb_rows)]"
   ]
  },
  {
   "cell_type": "code",
   "execution_count": 8,
   "metadata": {},
   "outputs": [],
   "source": [
    "def update_map():\n",
    "    global map\n",
    "    map = copy.deepcopy(empty_map)\n",
    "    for initial_coord, (rowid, colid) in blizzards_coord.items():\n",
    "        direction = blizzards_dir[initial_coord]\n",
    "        if direction == '<':\n",
    "            colid = (colid - 1) % nb_cols\n",
    "        elif direction == '>':\n",
    "            colid = (colid + 1) % nb_cols\n",
    "        elif direction == 'v':\n",
    "            rowid = (rowid + 1) % nb_rows\n",
    "        elif direction == '^':\n",
    "            rowid = (rowid - 1) % nb_rows\n",
    "        \n",
    "        blizzards_coord[(initial_coord)] = (rowid, colid)\n",
    "        if map[rowid][colid] == ['.']:\n",
    "            map[rowid][colid] = [direction]\n",
    "        else:\n",
    "            map[rowid][colid] += [direction]\n",
    "\n",
    "def calculate_min_time(from_coords, to_coords):\n",
    "    coords = {}\n",
    "    coords[from_coords] = True\n",
    "    \n",
    "    for minute in range(0, 1000):\n",
    "        if to_coords in coords.keys():\n",
    "            return minute\n",
    "        update_map()\n",
    "        possible_coords = {}\n",
    "        for E in coords:\n",
    "            # Calculate potential moves\n",
    "            stay  = E\n",
    "            north = (E[0]-1, E[1])\n",
    "            south = (E[0]+1, E[1])\n",
    "            west  = (E[0], E[1]-1)\n",
    "            east  = (E[0], E[1]+1)\n",
    "            potential_moves = [stay, north, south, west, east]\n",
    "            potential_moves = [move for move in potential_moves if (move[0] >= 0 and move[0] <= (nb_rows-1) and move[1] >= 0 and move[1] <= (nb_cols-1)) or (move==to_coords) or (move==from_coords)]\n",
    "            # Calculate possible moves\n",
    "            for (rowid, colid) in potential_moves:             \n",
    "                if ((rowid, colid) == to_coords) or ((rowid, colid) == from_coords) or (map[rowid][colid][0] == '.'):\n",
    "                    possible_coords[(rowid,colid)] = True\n",
    "        coords = possible_coords"
   ]
  },
  {
   "cell_type": "code",
   "execution_count": 9,
   "metadata": {},
   "outputs": [
    {
     "name": "stdout",
     "output_type": "stream",
     "text": [
      "Part 1: 297\n"
     ]
    }
   ],
   "source": [
    "# Part 1\n",
    "part1 = calculate_min_time(from_coords=(-1, 0), to_coords=(nb_rows, nb_cols-1))\n",
    "print(f'Part 1: {part1}')\n",
    "\n",
    "# Part 2\n",
    "part2 = part1\n",
    "part2 += calculate_min_time(from_coords=(nb_rows, nb_cols-1), to_coords=(-1, 0))\n",
    "part2 += calculate_min_time(from_coords=(-1, 0), to_coords=(nb_rows, nb_cols-1))\n",
    "print(f'Part 2: {part2}')"
   ]
  }
 ],
 "metadata": {
  "kernelspec": {
   "display_name": "Python 3",
   "language": "python",
   "name": "python3"
  },
  "language_info": {
   "codemirror_mode": {
    "name": "ipython",
    "version": 3
   },
   "file_extension": ".py",
   "mimetype": "text/x-python",
   "name": "python",
   "nbconvert_exporter": "python",
   "pygments_lexer": "ipython3",
   "version": "3.9.4"
  },
  "orig_nbformat": 4,
  "vscode": {
   "interpreter": {
    "hash": "0f9fe7654c201a2f0e5a846a57c518c35e6a2afb02af181997bf343144989e50"
   }
  }
 },
 "nbformat": 4,
 "nbformat_minor": 2
}
