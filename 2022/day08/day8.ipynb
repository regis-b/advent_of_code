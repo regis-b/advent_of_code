{
 "cells": [
  {
   "cell_type": "code",
   "execution_count": 48,
   "metadata": {},
   "outputs": [
    {
     "data": {
      "text/plain": [
       "array([[0, 1, 1, ..., 1, 0, 2],\n",
       "       [2, 2, 1, ..., 0, 2, 2],\n",
       "       [2, 0, 1, ..., 0, 2, 2],\n",
       "       ...,\n",
       "       [0, 0, 1, ..., 0, 2, 2],\n",
       "       [0, 2, 0, ..., 2, 2, 0],\n",
       "       [0, 2, 2, ..., 2, 2, 2]])"
      ]
     },
     "execution_count": 48,
     "metadata": {},
     "output_type": "execute_result"
    }
   ],
   "source": [
    "import numpy as np\n",
    "\n",
    "# Open input file and load it to a numpy array\n",
    "with open('input.txt') as file:\n",
    "    lines = file.readlines()\n",
    "arr = np.array([[int(x) for x in list(line.strip())] for line in lines])\n",
    "arr"
   ]
  },
  {
   "cell_type": "code",
   "execution_count": 18,
   "metadata": {},
   "outputs": [
    {
     "data": {
      "text/plain": [
       "1787"
      ]
     },
     "execution_count": 18,
     "metadata": {},
     "output_type": "execute_result"
    }
   ],
   "source": [
    "# Part 1\n",
    "nb_visible_trees = 0\n",
    "# Iterate over all values of the array\n",
    "for (rowid, colid), x in np.ndenumerate(arr):\n",
    "    # Retrieve max tree heights in each direction (we set the height to -1 if the tree is on a border)\n",
    "    left_max  = max(arr[rowid, 0:colid].tolist(),  default=-1)\n",
    "    right_max = max(arr[rowid, colid+1:].tolist(), default=-1)\n",
    "    up_max    = max(arr[0:rowid, colid].tolist(),  default=-1)\n",
    "    down_max  = max(arr[rowid+1:, colid].tolist(), default=-1)\n",
    "    # If the current tree is higher in at least one direction, it is visible \n",
    "    if x > min(left_max, right_max, up_max, down_max):\n",
    "        nb_visible_trees += 1\n",
    "\n",
    "nb_visible_trees"
   ]
  },
  {
   "cell_type": "code",
   "execution_count": 20,
   "metadata": {},
   "outputs": [
    {
     "data": {
      "text/plain": [
       "440640"
      ]
     },
     "execution_count": 20,
     "metadata": {},
     "output_type": "execute_result"
    }
   ],
   "source": [
    "# Part 2\n",
    "global_scenic_score = 0\n",
    "# Iterate over all values of the array\n",
    "for (rowid, colid), x in np.ndenumerate(arr):\n",
    "    # Retrieve list of heights in each direction\n",
    "    left  = arr[rowid, 0:colid].tolist()\n",
    "    right = arr[rowid, colid+1:].tolist()\n",
    "    up    = arr[0:rowid, colid].tolist()\n",
    "    down  = arr[rowid+1:, colid].tolist()\n",
    "    # Order from nearest to farthest\n",
    "    left.reverse()\n",
    "    up.reverse()\n",
    "    # For each direction, count the trees until a highest tree\n",
    "    directions = [left, right, up, down]\n",
    "    res = []\n",
    "    for direction in directions:\n",
    "        nb_visible = 0\n",
    "        for t in direction:\n",
    "            nb_visible += 1\n",
    "            if x <= t:\n",
    "                break\n",
    "        res += [nb_visible]\n",
    "    # Calculate the score (n_left * n_right * n_up * n_down)\n",
    "    current_scenic_score = np.prod(res)\n",
    "    # Save the score if it is a new record\n",
    "    global_scenic_score = max(global_scenic_score, current_scenic_score)\n",
    "\n",
    "global_scenic_score"
   ]
  }
 ],
 "metadata": {
  "kernelspec": {
   "display_name": "Python 3.9.4 64-bit",
   "language": "python",
   "name": "python3"
  },
  "language_info": {
   "codemirror_mode": {
    "name": "ipython",
    "version": 3
   },
   "file_extension": ".py",
   "mimetype": "text/x-python",
   "name": "python",
   "nbconvert_exporter": "python",
   "pygments_lexer": "ipython3",
   "version": "3.9.4"
  },
  "orig_nbformat": 4,
  "vscode": {
   "interpreter": {
    "hash": "0f9fe7654c201a2f0e5a846a57c518c35e6a2afb02af181997bf343144989e50"
   }
  }
 },
 "nbformat": 4,
 "nbformat_minor": 2
}
