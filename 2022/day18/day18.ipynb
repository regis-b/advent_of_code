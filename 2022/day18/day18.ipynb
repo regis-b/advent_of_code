{
 "cells": [
  {
   "cell_type": "code",
   "execution_count": 15,
   "metadata": {},
   "outputs": [
    {
     "data": {
      "text/plain": [
       "array([[ 4,  6, 13],\n",
       "       [14,  2,  9],\n",
       "       [ 4, 13,  6],\n",
       "       ...,\n",
       "       [ 5, 14, 15],\n",
       "       [20,  8, 11],\n",
       "       [ 7, 14, 19]])"
      ]
     },
     "execution_count": 15,
     "metadata": {},
     "output_type": "execute_result"
    }
   ],
   "source": [
    "import numpy as np\n",
    "# input_file = 'input_example.txt'\n",
    "input_file = 'input_full.txt'\n",
    "\n",
    "with open(input_file) as file:\n",
    "    lines = file.readlines()\n",
    "lines = [line.strip() for line in lines]\n",
    "lines = [[int(x) for x in line.split(',')] for line in lines]\n",
    "cubes = np.array(lines)\n",
    "cubes"
   ]
  },
  {
   "cell_type": "code",
   "execution_count": 16,
   "metadata": {},
   "outputs": [
    {
     "data": {
      "text/plain": [
       "4288"
      ]
     },
     "execution_count": 16,
     "metadata": {},
     "output_type": "execute_result"
    }
   ],
   "source": [
    "# Part 1\n",
    "moves = [np.array([1,0,0]), np.array([-1,0,0]), np.array([0,1,0]), np.array([0,-1,0]), np.array([0,0,1]), np.array([0,0,-1])]\n",
    "nb_free = 0\n",
    "for cube in cubes:\n",
    "     for coord in [cube + move for move in moves]:\n",
    "          if not(np.equal(cubes,coord).all(1).any()):\n",
    "               nb_free += 1\n",
    "print(f'Part 1: {nb_free}')"
   ]
  },
  {
   "cell_type": "code",
   "execution_count": 17,
   "metadata": {},
   "outputs": [
    {
     "name": "stdout",
     "output_type": "stream",
     "text": [
      "2494\n"
     ]
    }
   ],
   "source": [
    "maxs, mins = cubes.max(axis=0), cubes.min(axis=0)\n",
    "maxx, maxy, maxz = maxs[0], maxs[1], maxs[2]\n",
    "minx, miny, minz = mins[0], mins[1], mins[2]\n",
    "\n",
    "def find_empty_cube():\n",
    "    global cubes\n",
    "    global empty_space\n",
    "    for x in range(minx, maxx+1):\n",
    "        for y in range(miny, maxy+1):\n",
    "            for z in range(minz, maxz+1):\n",
    "                coord = np.array([x, y, z])\n",
    "                if not(np.equal(cubes, coord).all(1).any()):\n",
    "                    if len(empty_space) == 0:\n",
    "                        return coord\n",
    "                    else:\n",
    "                        if not(np.equal(empty_space, coord).all(1).any()):\n",
    "                            return coord\n",
    "    return np.array([])\n",
    "\n",
    "def find_empty_neighbours(coord):\n",
    "    # global cubes\n",
    "    adjacent_coords = []\n",
    "    for adjacent_coord in [coord + move for move in moves]:\n",
    "        if (minx <= adjacent_coord[0] <= maxx) and (miny <= adjacent_coord[1] <= maxy) and (minz <= adjacent_coord[2] <= maxz):\n",
    "            if not(np.equal(cubes,adjacent_coord).all(1).any()):\n",
    "                adjacent_coords += [adjacent_coord]\n",
    "    return adjacent_coords\n",
    "\n",
    "def count_cube_connections(sub_empty_space):\n",
    "    global cubes\n",
    "    cube_connections = []\n",
    "    for coord in sub_empty_space:\n",
    "        for adjacent_coord in [coord + move for move in moves]:\n",
    "            if np.equal(cubes,adjacent_coord).all(1).any():\n",
    "                cube_connections += [adjacent_coord]\n",
    "    return len(cube_connections)\n",
    "\n",
    "empty_space = []\n",
    "nb_to_remove = 0\n",
    "\n",
    "while True:\n",
    "    # Identify an empty space by starting with a remaining empty cube (i.e. not analyzed already)\n",
    "    empty_cube = find_empty_cube()\n",
    "    if len(empty_cube) == 0:\n",
    "        break # In this case, there is no more empty cubes to analyze\n",
    "    sub_empty_space = []\n",
    "    empty_cubes_i = [empty_cube]\n",
    "    while True:\n",
    "        empty_space += empty_cubes_i\n",
    "        sub_empty_space += empty_cubes_i\n",
    "        empty_cube_i_plus_1 = []\n",
    "        for empty_cube in empty_cubes_i:\n",
    "            empty_neighbours = find_empty_neighbours(empty_cube)\n",
    "            for empty_neighbour in empty_neighbours:\n",
    "                if not(np.equal(empty_space, empty_neighbour).all(1).any()):\n",
    "                    if len(empty_cube_i_plus_1) == 0 :\n",
    "                        empty_cube_i_plus_1 += [empty_neighbour]\n",
    "                    else:\n",
    "                        if not(np.equal(empty_cube_i_plus_1, empty_neighbour).all(1).any()):\n",
    "                            empty_cube_i_plus_1 += [empty_neighbour]\n",
    "        if len(empty_cube_i_plus_1) == 0:\n",
    "            break\n",
    "        empty_cubes_i = empty_cube_i_plus_1.copy()\n",
    "    # Analysis of the identified empty space (is it inside or outside?)\n",
    "    maxs_i, mins_i = np.array(sub_empty_space).max(axis=0), np.array(sub_empty_space).min(axis=0)\n",
    "    maxx_i, maxy_i, maxz_i = maxs_i[0], maxs_i[1], maxs_i[2]\n",
    "    minx_i, miny_i, minz_i = mins_i[0], mins_i[1], mins_i[2]\n",
    "    if not((minx_i == minx) or (miny_i == miny) or (minz_i == minz) or (maxx_i == maxx) or (maxy_i == maxy) or (maxz_i == maxz)):\n",
    "        nb_to_remove_j = count_cube_connections(sub_empty_space)\n",
    "        nb_to_remove += nb_to_remove_j\n",
    "\n",
    "print(f'Part 2: {nb_free - nb_to_remove}')"
   ]
  }
 ],
 "metadata": {
  "kernelspec": {
   "display_name": "Python 3",
   "language": "python",
   "name": "python3"
  },
  "language_info": {
   "codemirror_mode": {
    "name": "ipython",
    "version": 3
   },
   "file_extension": ".py",
   "mimetype": "text/x-python",
   "name": "python",
   "nbconvert_exporter": "python",
   "pygments_lexer": "ipython3",
   "version": "3.9.4"
  },
  "orig_nbformat": 4,
  "vscode": {
   "interpreter": {
    "hash": "0f9fe7654c201a2f0e5a846a57c518c35e6a2afb02af181997bf343144989e50"
   }
  }
 },
 "nbformat": 4,
 "nbformat_minor": 2
}
