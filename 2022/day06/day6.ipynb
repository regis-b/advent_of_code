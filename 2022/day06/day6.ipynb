{
 "cells": [
  {
   "cell_type": "code",
   "execution_count": 2,
   "metadata": {},
   "outputs": [
    {
     "name": "stdout",
     "output_type": "stream",
     "text": [
      "\"gbpl\" found at 1034 has no duplicates\n",
      "\"hqnmwsjbtcgvrl\" found at 2472 has no duplicates\n"
     ]
    }
   ],
   "source": [
    "with open('input.txt') as f:\n",
    "    lines = f.readlines()\n",
    "    datastream=lines[0]\n",
    "\n",
    "def find_substring_with_no_duplicate(input_string, substring_length):\n",
    "    for i in range(0,len(input_string)):\n",
    "        start = max(0, i - (substring_length-1))\n",
    "        end = i + 1\n",
    "        aaaa = input_string[start:end]\n",
    "        max_count = 1\n",
    "        for a in aaaa:\n",
    "            max_count = max(max_count, aaaa.count(a)) \n",
    "        if len(aaaa) == substring_length and max_count == 1:\n",
    "            print(f'\"{aaaa}\" found at {end} has no duplicates')\n",
    "            break\n",
    "    return\n",
    "\n",
    "find_substring_with_no_duplicate(datastream, 4)\n",
    "find_substring_with_no_duplicate(datastream, 14)"
   ]
  }
 ],
 "metadata": {
  "kernelspec": {
   "display_name": "Python 3.9.4 64-bit",
   "language": "python",
   "name": "python3"
  },
  "language_info": {
   "codemirror_mode": {
    "name": "ipython",
    "version": 3
   },
   "file_extension": ".py",
   "mimetype": "text/x-python",
   "name": "python",
   "nbconvert_exporter": "python",
   "pygments_lexer": "ipython3",
   "version": "3.9.4"
  },
  "orig_nbformat": 4,
  "vscode": {
   "interpreter": {
    "hash": "0f9fe7654c201a2f0e5a846a57c518c35e6a2afb02af181997bf343144989e50"
   }
  }
 },
 "nbformat": 4,
 "nbformat_minor": 2
}
