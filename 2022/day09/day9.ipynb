{
 "cells": [
  {
   "cell_type": "code",
   "execution_count": 2,
   "metadata": {},
   "outputs": [
    {
     "data": {
      "text/plain": [
       "6087"
      ]
     },
     "execution_count": 2,
     "metadata": {},
     "output_type": "execute_result"
    }
   ],
   "source": [
    "rope_length = 2  # Part 1\n",
    "# rope_length = 10 # Part 2\n",
    "\n",
    "import pandas as pd\n",
    "import math\n",
    "\n",
    "# Open input file\n",
    "with open('input.txt') as file:\n",
    "    lines = file.readlines()\n",
    "\n",
    "# We will record the tail coordinates into a pandas dataframe df_tail_coordinates\n",
    "df_tail_coordinates = pd.DataFrame()\n",
    "def log_tail_coordinates(r):\n",
    "    global df_tail_coordinates\n",
    "    new_coordinate = pd.DataFrame({'x': r[rope_length-1][0], 'y': r[rope_length-1][1]}, index=[0])\n",
    "    df_tail_coordinates = pd.concat([df_tail_coordinates, new_coordinate]).reset_index(drop=True)\n",
    "\n",
    "# Initialize the rope starting at [0, 0]\n",
    "rope = [[0, 0] for i in range(rope_length)]\n",
    "log_tail_coordinates(rope)\n",
    "\n",
    "# Mapping between R, L, U, D and vectors\n",
    "dir_dict = {'R': [0,1], 'L': [0,-1], 'U': [1,0], 'D': [-1,0],}\n",
    "# Add 2 vectors\n",
    "def add(c1, c2):\n",
    "    return [c1[0] + c2[0], c1[1] + c2[1]]\n",
    "# Substract 2 vectors\n",
    "def diff(c1, c2):\n",
    "    return [c1[0] - c2[0], c1[1] - c2[1]]\n",
    "# Calculate the distance between 2 knots\n",
    "def dist(c1, c2):\n",
    "    return math.sqrt((c1[0]-c2[0])**2 + (c1[1]-c2[1])**2)\n",
    "# Calculate a move (direction can be R, L, U, D or a vector)\n",
    "def move(coordinate, direction):\n",
    "    if type(direction) == str:\n",
    "        direction = [dir_dict[direction][0], dir_dict[direction][1]]\n",
    "    return add(coordinate, direction)\n",
    "# Calculate optimal move (basically divide the diff by 2 and round it so that the knot just touch the next one)\n",
    "def get_optimal_move(h, t):\n",
    "    return [math.ceil(c/2) if c >= 0 else math.floor(c/2) for c in diff(h, t)]\n",
    "\n",
    "# Process each move from the file\n",
    "for line in lines:\n",
    "    head_move = line.split(' ')[0]\n",
    "    n_moves = int(line.split(' ')[1])\n",
    "\n",
    "    for n in range(n_moves):\n",
    "        # Calculate new head position\n",
    "        rope[0] = move(rope[0], head_move)\n",
    "        # Calculate each new knot position\n",
    "        for k in range(rope_length-1):\n",
    "            h, t = rope[k], rope[k+1]\n",
    "            if dist(h, t) > math.sqrt(2):\n",
    "                t_move = get_optimal_move(h, t)\n",
    "                rope[k+1] = move(t, t_move)\n",
    "        # log tail position\n",
    "        log_tail_coordinates(rope)\n",
    "\n",
    "df_tail_coordinates[['x', 'y']].drop_duplicates().shape[0]"
   ]
  }
 ],
 "metadata": {
  "kernelspec": {
   "display_name": "Python 3.9.4 64-bit",
   "language": "python",
   "name": "python3"
  },
  "language_info": {
   "codemirror_mode": {
    "name": "ipython",
    "version": 3
   },
   "file_extension": ".py",
   "mimetype": "text/x-python",
   "name": "python",
   "nbconvert_exporter": "python",
   "pygments_lexer": "ipython3",
   "version": "3.9.4"
  },
  "orig_nbformat": 4,
  "vscode": {
   "interpreter": {
    "hash": "0f9fe7654c201a2f0e5a846a57c518c35e6a2afb02af181997bf343144989e50"
   }
  }
 },
 "nbformat": 4,
 "nbformat_minor": 2
}
