{
 "cells": [
  {
   "cell_type": "code",
   "execution_count": 8,
   "metadata": {},
   "outputs": [],
   "source": [
    "import os\n",
    "# input_file = 'input_example.txt'\n",
    "input_file = 'input_full.txt'\n",
    "\n",
    "with open(input_file) as file:\n",
    "    lines = file.readlines()\n",
    "lines = [line.strip().replace('Valve ', '').replace(' has flow rate=', ';').replace(' tunnels lead to valves ', '').replace(' tunnel leads to valve ', '').replace(' ', '') for line in lines]\n",
    "lines = [line.split(';') for line in lines]\n",
    "lines = [[line[0], int(line[1]), line[2].split(',')] for line in lines]\n",
    "lines\n",
    "valves, rate, next = {}, {}, {}\n",
    "nb_openable = 0\n",
    "for line in lines:\n",
    "    valves[line[0]] = {'rate': line[1], 'next': line[2]}\n",
    "    rate[line[0]] = line[1]\n",
    "    next[line[0]] = line[2]\n",
    "    if line[1] > 0:\n",
    "        nb_openable += 1"
   ]
  },
  {
   "cell_type": "code",
   "execution_count": 9,
   "metadata": {},
   "outputs": [],
   "source": [
    "def calculate_distance(v1, v2):\n",
    "    paths = [[v1]]\n",
    "    for dist in range(len(next)+1):\n",
    "        paths_new = []\n",
    "        for path in paths:\n",
    "            valve_curr = path[-1]\n",
    "            for valve_next in next[valve_curr]:\n",
    "                if valve_next == v2:\n",
    "                    return dist+1\n",
    "                if valve_next not in path:\n",
    "                    path_new = path.copy() + [valve_next]\n",
    "                    paths_new += [path_new]\n",
    "        paths = paths_new.copy()\n",
    "\n",
    "# VIV = VEry Import Valves :-)\n",
    "viv = ['AA'] + [valve for valve, rate in rate.items() if rate > 0]\n",
    "combinations = [(v1, v2) for idx, v1 in enumerate(viv) for v2 in viv[idx + 1:]]\n",
    "\n",
    "distances = {}\n",
    "for v1, v2 in combinations:\n",
    "    distances[(v1,v2)] = calculate_distance(v1, v2)"
   ]
  },
  {
   "cell_type": "code",
   "execution_count": 16,
   "metadata": {},
   "outputs": [],
   "source": [
    "def get_distance(v1, v2):\n",
    "    if (v1, v2) in distances.keys():\n",
    "        return distances[(v1,v2)]\n",
    "    else:\n",
    "        return distances[(v2, v1)]\n",
    "\n",
    "def calculate_released(path, minute, released, releasing, part=1):\n",
    "    global max_minutes, log\n",
    "    valve_curr = path[-1]\n",
    "    if len(path) > 1:\n",
    "        valve_prev = path[-2]\n",
    "        distance = get_distance(valve_curr, valve_prev) + 1\n",
    "        if minute + distance > max_minutes:\n",
    "            released += releasing * (max_minutes - minute)\n",
    "            if part == 2:\n",
    "                log += f'{path};{released}\\n'\n",
    "            return released\n",
    "        else:\n",
    "            released += releasing * distance\n",
    "    else:\n",
    "        distance = 0\n",
    "        released = 0\n",
    "        \n",
    "    minute += distance\n",
    "    releasing += rate[valve_curr]\n",
    "    \n",
    "    next_possible = [v for v in viv if v not in (path)]\n",
    "    if len(next_possible) == 0:\n",
    "        released += releasing * (max_minutes - minute)\n",
    "        if part == 2:\n",
    "            log += f'{path};{released}\\n'\n",
    "        return released\n",
    "    else:\n",
    "        maximum_released = 0\n",
    "        for valve_next in next_possible:\n",
    "            maximum_released = max(maximum_released, calculate_released(path+[valve_next], minute, released, releasing, part))\n",
    "        return maximum_released"
   ]
  },
  {
   "cell_type": "code",
   "execution_count": 13,
   "metadata": {},
   "outputs": [
    {
     "name": "stdout",
     "output_type": "stream",
     "text": [
      "Part 1: 1584\n"
     ]
    }
   ],
   "source": [
    "# Part 1\n",
    "log = ''\n",
    "max_minutes = 30\n",
    "print(f\"Part 1: {calculate_released(['AA'], 0, 0, 0)}\")"
   ]
  },
  {
   "cell_type": "code",
   "execution_count": 18,
   "metadata": {},
   "outputs": [],
   "source": [
    "# Part 2\n",
    "log = ''\n",
    "max_minutes = 26\n",
    "calculate_released(['AA'], 0, 0, 0, part=2)\n",
    "if os.path.exists('log.csv'):\n",
    "  os.remove('log.csv')\n",
    "log_file = open('log.csv', 'a')\n",
    "log_file.write(log)\n",
    "log_file.close()"
   ]
  },
  {
   "cell_type": "code",
   "execution_count": null,
   "metadata": {},
   "outputs": [],
   "source": [
    "# The following is in pySpark\n",
    "\n",
    "import pyspark.sql.functions as f\n",
    "from pyspark.sql.types import IntegerType\n",
    "\n",
    "viv = ['AA', 'EK', 'HT', 'MS', 'VW', 'WI', 'TQ', 'UW', 'FG', 'EG', 'WY', 'AP', 'FX', 'KS', 'TG', 'KR']\n",
    "binary_to_int = f.udf(lambda x: int(x, 2), IntegerType())\n",
    "\n",
    "df = (\n",
    "    spark.read.options(delimiter=';').csv(\"/FileStore/log.csv\")\n",
    "    .withColumnRenamed('_c0', 'path')\n",
    "    .withColumnRenamed('_c1', 'released')\n",
    "    .withColumn('released', f.col('released').cast('int'))\n",
    ")\n",
    "for v in viv:\n",
    "    df = df.withColumn(v, f.col('path').contains(v).cast('int').cast('string'))\n",
    "df = (\n",
    "    df\n",
    "    .withColumn('bin', f.concat(*[v for v in viv if v != 'AA']))\n",
    "    .withColumn('bin', binary_to_int('bin'))\n",
    "    .select('bin', 'released')\n",
    ")\n",
    "left_df = (\n",
    "    df\n",
    "    .withColumnRenamed('bin', 'bin_left')\n",
    "    .withColumnRenamed('released', 'released_left')\n",
    ")\n",
    "right_df = (\n",
    "    df\n",
    "    .withColumnRenamed('bin', 'bin_right')\n",
    "    .withColumnRenamed('released', 'released_right')\n",
    ")\n",
    "df_result = (\n",
    "    left_df.join(right_df, on=[(right_df.bin_right.bitwiseAND(left_df.bin_left) == 0)], how='inner')\n",
    "    .withColumn('released', f.col('released_left') + f.col('released_right'))\n",
    ")\n",
    "df_result.agg({'released': 'max'}).collect()[0]"
   ]
  }
 ],
 "metadata": {
  "kernelspec": {
   "display_name": "Python 3",
   "language": "python",
   "name": "python3"
  },
  "language_info": {
   "codemirror_mode": {
    "name": "ipython",
    "version": 3
   },
   "file_extension": ".py",
   "mimetype": "text/x-python",
   "name": "python",
   "nbconvert_exporter": "python",
   "pygments_lexer": "ipython3",
   "version": "3.9.4"
  },
  "orig_nbformat": 4,
  "vscode": {
   "interpreter": {
    "hash": "0f9fe7654c201a2f0e5a846a57c518c35e6a2afb02af181997bf343144989e50"
   }
  }
 },
 "nbformat": 4,
 "nbformat_minor": 2
}
