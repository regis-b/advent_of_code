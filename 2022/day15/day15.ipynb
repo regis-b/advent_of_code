{
 "cells": [
  {
   "cell_type": "code",
   "execution_count": 11,
   "metadata": {},
   "outputs": [],
   "source": [
    "import re\n",
    "\n",
    "# input_file = 'input_example.txt'\n",
    "# row = 10\n",
    "# map_size = 20\n",
    "input_file = 'input_full.txt'\n",
    "row = 2000000\n",
    "map_size = 4000000\n",
    "\n",
    "with open(input_file) as file:\n",
    "    lines = file.readlines()\n",
    "lines = [[int(i) for i in re.findall(r'-?\\d+', line)] for line in lines]\n",
    "\n",
    "def dist(x, y):\n",
    "    z = x - y\n",
    "    return int(abs(z.imag) + abs(z.real))"
   ]
  },
  {
   "cell_type": "code",
   "execution_count": 12,
   "metadata": {},
   "outputs": [
    {
     "name": "stdout",
     "output_type": "stream",
     "text": [
      "Part 1: 5144286\n"
     ]
    }
   ],
   "source": [
    "# Part 1\n",
    "ignored, covered = {}, {}\n",
    "for line in lines:\n",
    "    s = complex(line[0], line[1])\n",
    "    b = complex(line[2], line[3])\n",
    "    d = dist(s,b)\n",
    "    d_to_row = dist(s, complex(s.real, row))\n",
    "    if int(b.imag) == row:\n",
    "        ignored[int(b.real)] = 1\n",
    "    if d_to_row <= d:\n",
    "        for x in range(int(s.real)-(d-d_to_row), int(s.real)+(d-d_to_row)+1):\n",
    "            covered[x] = 1\n",
    "for x in ignored:\n",
    "    del covered[x]\n",
    "\n",
    "print(f'Part 1: {len(covered)}')"
   ]
  },
  {
   "cell_type": "code",
   "execution_count": 13,
   "metadata": {},
   "outputs": [
    {
     "name": "stdout",
     "output_type": "stream",
     "text": [
      "Part 2: 10229191267339\n"
     ]
    }
   ],
   "source": [
    "# Part 2\n",
    "# Create a list of S\n",
    "sensors = {}\n",
    "for line in lines:\n",
    "\ts = complex(line[0], line[1])\n",
    "\tb = complex(line[2], line[3])\n",
    "\td = dist(s,b)\n",
    "\tsensors[s] = d\n",
    "\n",
    "def find_uncovered():\n",
    "\t# If there is only one coordinate which is uncovered:\n",
    "\t#  - it must be between 2 diamonds (covered by 2 S)\n",
    "\t#  - it must touch the 2 diamonds (but not be inside it)\n",
    "\t# Therefore we search for diamonds which have a distance of 1 between them\n",
    "\tclosed = []\n",
    "\tfor s1, d1 in sensors.items():\n",
    "\t\tfor s2, d2 in sensors.items():\n",
    "\t\t\tif s1 == s2:\n",
    "\t\t\t\tbreak\n",
    "\t\t\tif dist(s1, s2) == d1+d2+2:\n",
    "\t\t\t\tif ([s1, s2] not in closed) and ([s2, s1] not in closed):\n",
    "\t\t\t\t\tclosed += [[s1, s2]]\n",
    "\t# Once we identified those diamonds, we go through the edges and test if each point is covered or not\n",
    "\tfor s1,_ in closed:\n",
    "\t\td1 = sensors[s1]\n",
    "\t\tfor delta in range(0, d1+1+1):\n",
    "\t\t\tpt1 = s1 + complex(-delta, d1+1-delta)  # Side 1 of the diamond\n",
    "\t\t\tpt2 = s1 + complex(-delta, -d1-1+delta) # Side 2 of the diamond\n",
    "\t\t\tpt3 = s1 + complex(delta, d1+1-delta)   # Side 3 of the diamond\n",
    "\t\t\tpt4 = s1 + complex(delta, -d1-1+delta)  # Side 4 of the diamond\n",
    "\t\t\tfor pt in [pt1, pt2, pt3, pt4]:\n",
    "\t\t\t\tcovered = False\n",
    "\t\t\t\tif pt.real >= 0 and pt.real <= map_size and pt.imag >= 0 and pt.imag <= map_size:\n",
    "\t\t\t\t\t# If the point on the side on the diamond is not covered by any S, then we identified the unique point\n",
    "\t\t\t\t\tfor s2, d2  in sensors.items():\n",
    "\t\t\t\t\t\tif dist(pt, s2) <= d2:\n",
    "\t\t\t\t\t\t\tcovered = True\n",
    "\t\t\t\t\t\t\tbreak\n",
    "\t\t\t\t\tif covered == False:\n",
    "\t\t\t\t\t\treturn pt\n",
    "unc_pt = find_uncovered()\n",
    "print(f'Part 2: {int(unc_pt.real)*4000000+int(unc_pt.imag)}')"
   ]
  },
  {
   "cell_type": "code",
   "execution_count": null,
   "metadata": {},
   "outputs": [],
   "source": []
  }
 ],
 "metadata": {
  "kernelspec": {
   "display_name": "Python 3",
   "language": "python",
   "name": "python3"
  },
  "language_info": {
   "codemirror_mode": {
    "name": "ipython",
    "version": 3
   },
   "file_extension": ".py",
   "mimetype": "text/x-python",
   "name": "python",
   "nbconvert_exporter": "python",
   "pygments_lexer": "ipython3",
   "version": "3.9.4"
  },
  "orig_nbformat": 4,
  "vscode": {
   "interpreter": {
    "hash": "0f9fe7654c201a2f0e5a846a57c518c35e6a2afb02af181997bf343144989e50"
   }
  }
 },
 "nbformat": 4,
 "nbformat_minor": 2
}
