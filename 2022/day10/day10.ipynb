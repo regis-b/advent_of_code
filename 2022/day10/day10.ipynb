{
 "cells": [
  {
   "cell_type": "code",
   "execution_count": 1,
   "metadata": {},
   "outputs": [
    {
     "data": {
      "text/plain": [
       "12540"
      ]
     },
     "execution_count": 1,
     "metadata": {},
     "output_type": "execute_result"
    }
   ],
   "source": [
    "import pandas as pd\n",
    "import numpy as np\n",
    "\n",
    "# Open input file\n",
    "with open('input.txt') as file:\n",
    "    lines = file.readlines()\n",
    "lines = [line.replace('\\n', '') for line in lines]\n",
    "lines = [line.split() for line in lines]\n",
    "\n",
    "# Each operation will be logged in a pandas dataframe\n",
    "df = pd.DataFrame()\n",
    "def log(cycle, op, x):\n",
    "    global df\n",
    "    new_log = pd.DataFrame({'cycle': cycle, 'op': op, 'x': x}, index=[0])\n",
    "    df = pd.concat([df, new_log]).reset_index(drop=True)\n",
    "\n",
    "x, cycle = 1, 1\n",
    "# iterate over operation and update log accordingly\n",
    "for line in lines:\n",
    "    operation = line[0]\n",
    "    if operation == 'noop':\n",
    "        log(cycle, 'noop', x)\n",
    "        cycle += 1\n",
    "    elif operation == 'addx':\n",
    "        a = int(line[1])\n",
    "        log(cycle, f'addx {a} (1/2)', x)\n",
    "        cycle += 1\n",
    "        log(cycle, f'addx {a} (2/2)', x)\n",
    "        cycle += 1\n",
    "        x += a\n",
    "\n",
    "# Calculate signal strength\n",
    "df['strength'] = np.where((df['cycle'] + 20).mod(40)==0, df['cycle'] * df['x'], None)\n",
    "# Part1\n",
    "df.dropna()['strength'].sum()"
   ]
  },
  {
   "cell_type": "code",
   "execution_count": 2,
   "metadata": {},
   "outputs": [
    {
     "name": "stdout",
     "output_type": "stream",
     "text": [
      "\n",
      "####.####..##..####.####.#....#..#.####.\n",
      "#....#....#..#....#.#....#....#..#.#....\n",
      "###..###..#......#..###..#....####.###..\n",
      "#....#....#.....#...#....#....#..#.#....\n",
      "#....#....#..#.#....#....#....#..#.#....\n",
      "#....####..##..####.####.####.#..#.####.\n"
     ]
    }
   ],
   "source": [
    "# Part 2\n",
    "df['crt_col'] = (df['cycle']-1).mod(40)\n",
    "df['crt_row'] = np.floor((df['cycle']-1) / 40).astype(int)\n",
    "df['sprit_from'] = df['x'] - 1\n",
    "df['sprit_to'] = df['x'] + 1\n",
    "df['pixel'] = np.where((df['crt_col'] <= df['sprit_to']) & (df['crt_col'] >= df['sprit_from']),'#','.')\n",
    "\n",
    "output = ''\n",
    "pixels = df['pixel'].tolist()\n",
    "for i in range(len(pixels)):\n",
    "    if i % 40 == 0:\n",
    "        output += '\\n'\n",
    "    output += pixels[i]\n",
    "print(output)"
   ]
  }
 ],
 "metadata": {
  "kernelspec": {
   "display_name": "Python 3.9.4 64-bit",
   "language": "python",
   "name": "python3"
  },
  "language_info": {
   "codemirror_mode": {
    "name": "ipython",
    "version": 3
   },
   "file_extension": ".py",
   "mimetype": "text/x-python",
   "name": "python",
   "nbconvert_exporter": "python",
   "pygments_lexer": "ipython3",
   "version": "3.9.4"
  },
  "orig_nbformat": 4,
  "vscode": {
   "interpreter": {
    "hash": "0f9fe7654c201a2f0e5a846a57c518c35e6a2afb02af181997bf343144989e50"
   }
  }
 },
 "nbformat": 4,
 "nbformat_minor": 2
}
