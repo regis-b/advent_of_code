{
 "cells": [
  {
   "cell_type": "code",
   "execution_count": 89,
   "metadata": {},
   "outputs": [
    {
     "data": {
      "text/html": [
       "<div>\n",
       "<style scoped>\n",
       "    .dataframe tbody tr th:only-of-type {\n",
       "        vertical-align: middle;\n",
       "    }\n",
       "\n",
       "    .dataframe tbody tr th {\n",
       "        vertical-align: top;\n",
       "    }\n",
       "\n",
       "    .dataframe thead th {\n",
       "        text-align: right;\n",
       "    }\n",
       "</style>\n",
       "<table border=\"1\" class=\"dataframe\">\n",
       "  <thead>\n",
       "    <tr style=\"text-align: right;\">\n",
       "      <th></th>\n",
       "      <th>path</th>\n",
       "      <th>type</th>\n",
       "      <th>size</th>\n",
       "    </tr>\n",
       "  </thead>\n",
       "  <tbody>\n",
       "    <tr>\n",
       "      <th>0</th>\n",
       "      <td>/</td>\n",
       "      <td>folder</td>\n",
       "      <td>46233734</td>\n",
       "    </tr>\n",
       "    <tr>\n",
       "      <th>1</th>\n",
       "      <td>/dpbwg/</td>\n",
       "      <td>folder</td>\n",
       "      <td>308482</td>\n",
       "    </tr>\n",
       "    <tr>\n",
       "      <th>14</th>\n",
       "      <td>/dpbwg/dgh/</td>\n",
       "      <td>folder</td>\n",
       "      <td>197049</td>\n",
       "    </tr>\n",
       "    <tr>\n",
       "      <th>17</th>\n",
       "      <td>/dpbwg/dgh/lhjmzsl.hzj</td>\n",
       "      <td>file</td>\n",
       "      <td>197049</td>\n",
       "    </tr>\n",
       "    <tr>\n",
       "      <th>15</th>\n",
       "      <td>/dpbwg/dpbwg</td>\n",
       "      <td>file</td>\n",
       "      <td>100731</td>\n",
       "    </tr>\n",
       "    <tr>\n",
       "      <th>...</th>\n",
       "      <td>...</td>\n",
       "      <td>...</td>\n",
       "      <td>...</td>\n",
       "    </tr>\n",
       "    <tr>\n",
       "      <th>13</th>\n",
       "      <td>/sqs/</td>\n",
       "      <td>folder</td>\n",
       "      <td>252966</td>\n",
       "    </tr>\n",
       "    <tr>\n",
       "      <th>492</th>\n",
       "      <td>/sqs/zms/</td>\n",
       "      <td>folder</td>\n",
       "      <td>252966</td>\n",
       "    </tr>\n",
       "    <tr>\n",
       "      <th>493</th>\n",
       "      <td>/sqs/zms/cvtqph.wwp</td>\n",
       "      <td>file</td>\n",
       "      <td>152096</td>\n",
       "    </tr>\n",
       "    <tr>\n",
       "      <th>494</th>\n",
       "      <td>/sqs/zms/mmwzg/</td>\n",
       "      <td>folder</td>\n",
       "      <td>100870</td>\n",
       "    </tr>\n",
       "    <tr>\n",
       "      <th>495</th>\n",
       "      <td>/sqs/zms/mmwzg/qsgv</td>\n",
       "      <td>file</td>\n",
       "      <td>100870</td>\n",
       "    </tr>\n",
       "  </tbody>\n",
       "</table>\n",
       "<p>496 rows × 3 columns</p>\n",
       "</div>"
      ],
      "text/plain": [
       "                       path    type      size\n",
       "0                         /  folder  46233734\n",
       "1                   /dpbwg/  folder    308482\n",
       "14              /dpbwg/dgh/  folder    197049\n",
       "17   /dpbwg/dgh/lhjmzsl.hzj    file    197049\n",
       "15             /dpbwg/dpbwg    file    100731\n",
       "..                      ...     ...       ...\n",
       "13                    /sqs/  folder    252966\n",
       "492               /sqs/zms/  folder    252966\n",
       "493     /sqs/zms/cvtqph.wwp    file    152096\n",
       "494         /sqs/zms/mmwzg/  folder    100870\n",
       "495     /sqs/zms/mmwzg/qsgv    file    100870\n",
       "\n",
       "[496 rows x 3 columns]"
      ]
     },
     "execution_count": 89,
     "metadata": {},
     "output_type": "execute_result"
    }
   ],
   "source": [
    "import pandas as pd\n",
    "df = pd.DataFrame()\n",
    "\n",
    "# A pandas dataframe will be used to build a file and folder catalog\n",
    "def add_item_to_catalog(path, type, size=0):\n",
    "    new_row = pd.DataFrame({'path': path, 'type': type, 'size': size}, index=[0])\n",
    "    return pd.concat([df, new_row]).reset_index(drop=True)\n",
    "\n",
    "# Open input file\n",
    "with open('input.txt') as f:\n",
    "    lines = f.readlines()\n",
    "\n",
    "# Build file and folder catalog by decoding each line of the file\n",
    "for l in lines:\n",
    "    items = l.strip().split(' ')\n",
    "    if (items[0] == '$') & (items[1] == 'cd'):\n",
    "        if items[2] == '/':\n",
    "            current_path = items[2]\n",
    "            df=add_item_to_catalog(path=f'{current_path}', type='folder')\n",
    "        elif items[2] == '..':\n",
    "            current_path = '/'.join(current_path.split('/')[:-2])+'/'\n",
    "        else:\n",
    "            current_path = f'{current_path}{items[2]}/'\n",
    "    elif items[0] != '$':\n",
    "        if items[0] == 'dir':\n",
    "            df=add_item_to_catalog(path=f'{current_path}{items[1]}/', type='folder')\n",
    "        else:\n",
    "            df=add_item_to_catalog(path=f'{current_path}{items[1]}', type='file', size=items[0])\n",
    "\n",
    "# Calculate folder sizes\n",
    "df['size'] = df['size'].astype('int')\n",
    "for index, row in df[df['type']=='folder'].iterrows():\n",
    "    size = df[df['path'].str.startswith(row['path']) & (df['type']=='file')]['size'].sum().item()\n",
    "    df.loc[df['path']==row['path'], 'size'] = size\n",
    "\n",
    "# Display catalog\n",
    "df.sort_values('path')"
   ]
  },
  {
   "cell_type": "code",
   "execution_count": 90,
   "metadata": {},
   "outputs": [
    {
     "name": "stdout",
     "output_type": "stream",
     "text": [
      "sum of folder sizes below 100000 = {total_size_of_smallest_folders}\n"
     ]
    }
   ],
   "source": [
    "total_size_of_smallest_folders = df[(df['type']=='folder') & (df['size']<= 100000)]['size'].sum()\n",
    "print('sum of folder sizes below 100000 = {total_size_of_smallest_folders}')"
   ]
  },
  {
   "cell_type": "code",
   "execution_count": 91,
   "metadata": {},
   "outputs": [
    {
     "name": "stdout",
     "output_type": "stream",
     "text": [
      "minimum folder size to be dropped = 6233734\n",
      "size of existing folder with min size = 6296435\n"
     ]
    }
   ],
   "source": [
    "total_used_space    = df[df['path']=='/']['size'].sum().item()\n",
    "current_free_space  = 70000000 - total_used_space\n",
    "targeted_free_space = 30000000\n",
    "\n",
    "to_be_dropped = targeted_free_space - current_free_space\n",
    "print(f'minimum folder size to be dropped = {to_be_dropped}')\n",
    "\n",
    "size_of_folder_with_min_size = df[(df['type']=='folder') & (df['size']>= to_be_dropped)].sort_values('size').head(1)['size'].sum().item()\n",
    "print(f'size of existing folder with min size = {size_of_folder_with_min_size}')"
   ]
  }
 ],
 "metadata": {
  "kernelspec": {
   "display_name": "Python 3.9.4 64-bit",
   "language": "python",
   "name": "python3"
  },
  "language_info": {
   "codemirror_mode": {
    "name": "ipython",
    "version": 3
   },
   "file_extension": ".py",
   "mimetype": "text/x-python",
   "name": "python",
   "nbconvert_exporter": "python",
   "pygments_lexer": "ipython3",
   "version": "3.9.4"
  },
  "orig_nbformat": 4,
  "vscode": {
   "interpreter": {
    "hash": "0f9fe7654c201a2f0e5a846a57c518c35e6a2afb02af181997bf343144989e50"
   }
  }
 },
 "nbformat": 4,
 "nbformat_minor": 2
}
