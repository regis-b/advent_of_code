{
 "cells": [
  {
   "cell_type": "code",
   "execution_count": 2,
   "metadata": {},
   "outputs": [
    {
     "name": "stdout",
     "output_type": "stream",
     "text": [
      "5144286\n"
     ]
    }
   ],
   "source": [
    "import re\n",
    "\n",
    "# input_file = 'input_example.txt'\n",
    "# row = 10\n",
    "input_file = 'input_full.txt'\n",
    "row = 2000000\n",
    "\n",
    "with open(input_file) as file:\n",
    "    lines = file.readlines()\n",
    "lines = [[int(i) for i in re.findall(r'-?\\d+', line)] for line in lines]\n",
    "\n",
    "def dist(x, y):\n",
    "    z = x - y\n",
    "    return int(abs(z.imag) + abs(z.real))\n",
    "\n",
    "ignored, covered = {}, {}\n",
    "for line in lines:\n",
    "    s = complex(line[0], line[1])\n",
    "    b = complex(line[2], line[3])\n",
    "    d = dist(s,b)\n",
    "    d_to_row = dist(s, complex(s.real, row))\n",
    "    if int(b.imag) == row:\n",
    "        ignored[int(b.real)] = 1\n",
    "    if d_to_row <= d:\n",
    "        for x in range(int(s.real)-(d-d_to_row), int(s.real)+(d-d_to_row)+1):\n",
    "            covered[x] = 1\n",
    "for x in ignored:\n",
    "    del covered[x]\n",
    "\n",
    "print(len(covered))\n"
   ]
  }
 ],
 "metadata": {
  "kernelspec": {
   "display_name": "Python 3",
   "language": "python",
   "name": "python3"
  },
  "language_info": {
   "codemirror_mode": {
    "name": "ipython",
    "version": 3
   },
   "file_extension": ".py",
   "mimetype": "text/x-python",
   "name": "python",
   "nbconvert_exporter": "python",
   "pygments_lexer": "ipython3",
   "version": "3.9.4"
  },
  "orig_nbformat": 4,
  "vscode": {
   "interpreter": {
    "hash": "0f9fe7654c201a2f0e5a846a57c518c35e6a2afb02af181997bf343144989e50"
   }
  }
 },
 "nbformat": 4,
 "nbformat_minor": 2
}
