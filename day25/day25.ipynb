{
 "cells": [
  {
   "cell_type": "code",
   "execution_count": 126,
   "metadata": {},
   "outputs": [],
   "source": [
    "full = True\n",
    "input_file = 'input_full.txt' if full else 'input_example.txt'\n",
    "\n",
    "with open(input_file) as file:\n",
    "    lines = file.readlines()\n",
    "lines = [line.strip() for line in lines]\n",
    "if not(full):\n",
    "    print(lines)"
   ]
  },
  {
   "cell_type": "code",
   "execution_count": 127,
   "metadata": {},
   "outputs": [],
   "source": [
    "def to_decimal(snafu):\n",
    "    decimal = 0\n",
    "    snafu = list(snafu[::-1])\n",
    "    for i in range(0, len(snafu)):\n",
    "        digit = snafu[i].replace('-', '-1').replace('=', '-2')\n",
    "        decimal += int(digit) * 5**i\n",
    "    return decimal\n",
    "\n",
    "def to_snafu(n):\n",
    "    s = ''\n",
    "    while n:\n",
    "        if n % 5 == 3:\n",
    "            s = '=' + s\n",
    "            n = n // 5 + 1\n",
    "        elif n % 5 == 4:\n",
    "            s = '-' + s\n",
    "            n = n // 5 + 1\n",
    "        else:\n",
    "            s = str(n % 5) + s\n",
    "            n //= 5\n",
    "    return s"
   ]
  },
  {
   "cell_type": "code",
   "execution_count": 128,
   "metadata": {},
   "outputs": [
    {
     "name": "stdout",
     "output_type": "stream",
     "text": [
      "Part 1: 2=01-0-2-0=-0==-1=01\n"
     ]
    }
   ],
   "source": [
    "result = 0\n",
    "for snafu in lines:\n",
    "    result += to_decimal(snafu)\n",
    "\n",
    "print(f'Part 1: {to_snafu(result)}')"
   ]
  }
 ],
 "metadata": {
  "kernelspec": {
   "display_name": "Python 3",
   "language": "python",
   "name": "python3"
  },
  "language_info": {
   "codemirror_mode": {
    "name": "ipython",
    "version": 3
   },
   "file_extension": ".py",
   "mimetype": "text/x-python",
   "name": "python",
   "nbconvert_exporter": "python",
   "pygments_lexer": "ipython3",
   "version": "3.9.4"
  },
  "orig_nbformat": 4,
  "vscode": {
   "interpreter": {
    "hash": "0f9fe7654c201a2f0e5a846a57c518c35e6a2afb02af181997bf343144989e50"
   }
  }
 },
 "nbformat": 4,
 "nbformat_minor": 2
}
