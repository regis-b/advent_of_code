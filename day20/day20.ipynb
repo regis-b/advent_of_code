{
 "cells": [
  {
   "cell_type": "code",
   "execution_count": 221,
   "metadata": {},
   "outputs": [],
   "source": [
    "import numpy as np\n",
    "# input_file = 'input_example.txt'\n",
    "input_file = 'input_full.txt'\n",
    "\n",
    "with open(input_file) as file:\n",
    "    lines = file.readlines()\n",
    "lines = [int(line.strip()) for line in lines]"
   ]
  },
  {
   "cell_type": "code",
   "execution_count": 225,
   "metadata": {},
   "outputs": [
    {
     "name": "stdout",
     "output_type": "stream",
     "text": [
      "Part 1: 9866\n"
     ]
    }
   ],
   "source": [
    "def swap(arr, row_index1, row_index2):\n",
    "    row1 = arr[row_index1]\n",
    "    row2 = arr[row_index2]\n",
    "    arr[row_index1] = row2\n",
    "    arr[row_index2] = row1\n",
    "    return arr\n",
    "\n",
    "def move_down(arr, row_index):\n",
    "    row_index1 = row_index\n",
    "    if (row_index1+1) == len(arr):\n",
    "        # In this case, last item must become first\n",
    "        arr = arr[-1:] + arr[:-1]\n",
    "        row_index1 = 0\n",
    "    # Swap item 1 with item 2\n",
    "    row_index2 = row_index1 + 1\n",
    "    arr = swap(arr, row_index1, row_index2)\n",
    "    return arr, row_index2\n",
    "\n",
    "def move_up(arr, row_index):\n",
    "    row_index1 = row_index\n",
    "    if row_index1 == 0:\n",
    "        # In this case, first item must become last\n",
    "        arr = arr[1:] + arr[:1]\n",
    "        row_index1 = len(arr)-1\n",
    "\n",
    "    # Swap item 1 with item 2\n",
    "    row_index2 = row_index1 - 1\n",
    "    arr = swap(arr, row_index1, row_index2)\n",
    "\n",
    "    if row_index2 == 0:\n",
    "        # In this case, first item must become last\n",
    "        arr = arr[1:] + arr[:1]\n",
    "        row_index2 = len(arr)-1\n",
    "\n",
    "    return arr, row_index2\n",
    "\n",
    "def find_row(arr, n):\n",
    "    for i in range(0, len(arr)):\n",
    "        if arr[i][0] == n:\n",
    "            return i\n",
    "\n",
    "def decrypt(arr):\n",
    "    for i in range(0, len(arr)):\n",
    "        row_index = find_row(arr, i)\n",
    "        value = arr[row_index][1]\n",
    "\n",
    "        if value > 0:\n",
    "            new_row_index = row_index\n",
    "            for j in range(0, value % (len(arr)-1)):\n",
    "                arr, new_row_index = move_down(arr, new_row_index)\n",
    "        if value < 0:\n",
    "            new_row_index = row_index\n",
    "            for j in range(0, abs(value) % (len(arr)-1)):\n",
    "                arr, new_row_index = move_up(arr, new_row_index)\n",
    "    return arr\n",
    "\n",
    "def get_grove_coordinates(arr):\n",
    "    result = [a[1] for a in arr]\n",
    "    index_of_0 = -1\n",
    "    for i in range(0, len(result)):\n",
    "        if arr[i][1] == 0:\n",
    "            index_of_0 = i\n",
    "            break\n",
    "    return result[(index_of_0+1000)%len(result)] + result[(index_of_0+2000)%len(result)] + result[(index_of_0+3000)%len(result)]\n",
    "\n",
    "# Part 1\n",
    "arr = [[a, b] for a,b in zip(range(0,len(lines)), lines)]\n",
    "print(f'Part 1: {get_grove_coordinates(decrypt(arr))}')"
   ]
  },
  {
   "cell_type": "code",
   "execution_count": 226,
   "metadata": {},
   "outputs": [
    {
     "name": "stdout",
     "output_type": "stream",
     "text": [
      "Part 2: 12374299815791\n"
     ]
    }
   ],
   "source": [
    "# Part 2\n",
    "key = 811589153\n",
    "\n",
    "arr = [[a, b] for a,b in zip(range(0,len(lines)), lines)]\n",
    "arr = [[x[0], x[1]*key] for x in arr]\n",
    "\n",
    "for i in range(0, 10):\n",
    "    arr = decrypt(arr)\n",
    "arr\n",
    "print(f'Part 2: {get_grove_coordinates(arr)}')"
   ]
  }
 ],
 "metadata": {
  "kernelspec": {
   "display_name": "Python 3",
   "language": "python",
   "name": "python3"
  },
  "language_info": {
   "codemirror_mode": {
    "name": "ipython",
    "version": 3
   },
   "file_extension": ".py",
   "mimetype": "text/x-python",
   "name": "python",
   "nbconvert_exporter": "python",
   "pygments_lexer": "ipython3",
   "version": "3.9.4"
  },
  "orig_nbformat": 4,
  "vscode": {
   "interpreter": {
    "hash": "0f9fe7654c201a2f0e5a846a57c518c35e6a2afb02af181997bf343144989e50"
   }
  }
 },
 "nbformat": 4,
 "nbformat_minor": 2
}
