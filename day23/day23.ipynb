{
 "cells": [
  {
   "cell_type": "code",
   "execution_count": 32,
   "metadata": {},
   "outputs": [],
   "source": [
    "import numpy as np\n",
    "\n",
    "full = True\n",
    "input_file = 'input_full.txt' if full else 'input_example.txt'\n",
    "\n",
    "with open(input_file) as file:\n",
    "    lines = file.readlines()\n",
    "lines = [line.replace('.', '0').replace('#', '1').strip() for line in lines]\n",
    "lines = [[int(x) for x in list(line)] for line in lines]\n",
    "initial_map = np.array(lines)\n",
    "\n",
    "def print_map(m):\n",
    "    m = [[str(x).replace('0', '.').replace('1', '#') for x in line] for line in m]\n",
    "    for line in m:\n",
    "        print(' '.join(line))\n",
    "\n",
    "if not(full):\n",
    "    print_map(initial_map)"
   ]
  },
  {
   "cell_type": "code",
   "execution_count": 33,
   "metadata": {},
   "outputs": [
    {
     "name": "stdout",
     "output_type": "stream",
     "text": [
      "Part 1: 4241\n",
      "Part 2: 1079\n"
     ]
    }
   ],
   "source": [
    "def trim(m):\n",
    "    nz = np.nonzero(m)\n",
    "    return m[nz[0].min():nz[0].max()+1, nz[1].min():nz[1].max()+1]\n",
    "\n",
    "def add_borders(m):\n",
    "    m = np.insert(m, 0, 0, axis=0)\n",
    "    m = np.insert(m, m.shape[0], 0, axis=0)\n",
    "    m = np.insert(m, 0, 0, axis=1)\n",
    "    m = np.insert(m, m.shape[1], 0, axis=1)\n",
    "    return m\n",
    "\n",
    "def add_to_dict(curr, dest):\n",
    "    if dest in proposed_moves.keys():\n",
    "        proposed_moves[dest] += (curr,)\n",
    "    else:\n",
    "        proposed_moves[dest] = (curr,)\n",
    "\n",
    "map = initial_map.copy()\n",
    "for round in range(1, 100000):\n",
    "    proposed_moves = {}\n",
    "    # Ensure there is always empty space around the #\n",
    "    map = add_borders(trim(map))\n",
    "    # Calculate proposals\n",
    "    for (row, col) in  zip(*np.where(map == 1)):\n",
    "        curr = (row, col)\n",
    "        N = map[row-1, col-1:col+2].sum(), (row-1, col)\n",
    "        S = map[row+1, col-1:col+2].sum(), (row+1, col)\n",
    "        W = map[row-1:row+2, col-1].sum(), (row, col-1)\n",
    "        E = map[row-1:row+2, col+1].sum(), (row, col+1)\n",
    "        dirs = [N, S, W, E]\n",
    "\n",
    "        if N[0] + S[0] + W[0] + E[0] != 0:\n",
    "            for nb_neighbours, dest in [dirs[j%4] for j in range(round-1, round+3)]:\n",
    "                if nb_neighbours == 0:\n",
    "                    add_to_dict(curr, dest)\n",
    "                    break\n",
    "\n",
    "    # Move to proposed positions when only one candidate\n",
    "    nb_moves = 0\n",
    "    for dest, currs in proposed_moves.items():\n",
    "        if len(currs) == 1:\n",
    "            nb_moves += 1\n",
    "            map[currs[0]] = 0\n",
    "            map[dest] = 1\n",
    "    \n",
    "    if round == 10:\n",
    "        print(f'Part 1: {(1-trim(map)).sum()}')\n",
    "    if nb_moves == 0:\n",
    "        print(f'Part 2: {round}')\n",
    "        break"
   ]
  }
 ],
 "metadata": {
  "kernelspec": {
   "display_name": "Python 3",
   "language": "python",
   "name": "python3"
  },
  "language_info": {
   "codemirror_mode": {
    "name": "ipython",
    "version": 3
   },
   "file_extension": ".py",
   "mimetype": "text/x-python",
   "name": "python",
   "nbconvert_exporter": "python",
   "pygments_lexer": "ipython3",
   "version": "3.9.4"
  },
  "orig_nbformat": 4,
  "vscode": {
   "interpreter": {
    "hash": "0f9fe7654c201a2f0e5a846a57c518c35e6a2afb02af181997bf343144989e50"
   }
  }
 },
 "nbformat": 4,
 "nbformat_minor": 2
}
