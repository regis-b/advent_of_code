{
 "cells": [
  {
   "cell_type": "code",
   "execution_count": 38,
   "metadata": {},
   "outputs": [
    {
     "data": {
      "text/plain": [
       "{1: ['R', 'G', 'H', 'Q', 'S', 'B', 'T', 'N'],\n",
       " 2: ['H', 'S', 'F', 'D', 'P', 'Z', 'J', nan],\n",
       " 3: ['Z', 'H', 'V', nan, nan, nan, nan, nan],\n",
       " 4: ['M', 'Z', 'J', 'F', 'G', 'H', nan, nan],\n",
       " 5: ['T', 'Z', 'C', 'D', 'L', 'M', 'S', 'R'],\n",
       " 6: ['M', 'T', 'W', 'V', 'H', 'Z', 'J', nan],\n",
       " 7: ['T', 'F', 'P', 'L', 'Z', nan, nan, nan],\n",
       " 8: ['Q', 'V', 'W', 'S', nan, nan, nan, nan],\n",
       " 9: ['W', 'H', 'L', 'M', 'T', 'D', 'N', 'C']}"
      ]
     },
     "execution_count": 38,
     "metadata": {},
     "output_type": "execute_result"
    }
   ],
   "source": [
    "import pandas as pd\n",
    "\n",
    "df_stacks = pd.read_fwf('input-full.txt', nrows=8, infer_nrows=8, names=[1,2,3,4,5,6,7,8,9])\n",
    "df_stacks = df_stacks.replace(['\\[', '\\]'], '', regex=True)\n",
    "df_stacks.sort_index(ascending=False).to_dict('list')\n",
    "# with open('input-full.txt') as f:\n",
    "#     lines = f.readlines()\n",
    "\n",
    "\n",
    "# for line in lines[0:8]:\n",
    "#     print(line)\n",
    "    # l = line.replace('\\n', '').replace('move ', '').replace(' from ', ',').replace(' to ', ',')\n",
    "    # l = l.split(sep=',')\n",
    "    # l = [int(x) for x in l]"
   ]
  },
  {
   "cell_type": "code",
   "execution_count": 2,
   "metadata": {},
   "outputs": [
    {
     "data": {
      "text/plain": [
       "{1: ['P', 'D', 'P'],\n",
       " 2: ['B', 'N', 'R', 'H', 'J', 'T', 'Q', 'M', 'T'],\n",
       " 3: ['S', 'W'],\n",
       " 4: ['H', 'V', 'F', 'W', 'M', 'D', 'L', 'S', 'T', 'Z', 'L'],\n",
       " 5: ['C', 'G', 'Q', 'H', 'F', 'F', 'T'],\n",
       " 6: ['N', 'M', 'Z', 'H', 'Z', 'Z', 'D'],\n",
       " 7: ['S'],\n",
       " 8: ['J'],\n",
       " 9: ['Z',\n",
       "  'M',\n",
       "  'C',\n",
       "  'H',\n",
       "  'V',\n",
       "  'L',\n",
       "  'Z',\n",
       "  'G',\n",
       "  'J',\n",
       "  'S',\n",
       "  'W',\n",
       "  'H',\n",
       "  'T',\n",
       "  'R',\n",
       "  'V']}"
      ]
     },
     "execution_count": 2,
     "metadata": {},
     "output_type": "execute_result"
    }
   ],
   "source": [
    "# Initialize my stack\n",
    "stacks = {\n",
    "   1: ['R', 'G', 'H', 'Q', 'S', 'B', 'T', 'N'],\n",
    "   2: ['H', 'S', 'F', 'D', 'P', 'Z', 'J'],\n",
    "   3: ['Z', 'H', 'V'],\n",
    "   4: ['M', 'Z', 'J', 'F', 'G', 'H'],\n",
    "   5: ['T', 'Z', 'C', 'D', 'L', 'M', 'S', 'R'],\n",
    "   6: ['M', 'T', 'W', 'V', 'H', 'Z', 'J'],\n",
    "   7: ['T', 'F', 'P', 'L', 'Z'],\n",
    "   8: ['Q', 'V', 'W', 'S'],\n",
    "   9: ['W', 'H', 'L', 'M', 'T', 'D', 'N', 'C'],\n",
    "}\n",
    "\n",
    "with open('input.txt') as f:\n",
    "    lines = f.readlines()\n",
    "\n",
    "for line in lines:\n",
    "    l = line.replace('\\n', '').replace('move ', '').replace(' from ', ',').replace(' to ', ',')\n",
    "    l = l.split(sep=',')\n",
    "    l = [int(x) for x in l]\n",
    "    n_moves = l[0]\n",
    "    strack_from = l[1]\n",
    "    strack_to = l[2]\n",
    "\n",
    "    for n in range(n_moves):\n",
    "        item_to_move = stacks[strack_from][-1]\n",
    "        stacks[strack_from] = stacks[strack_from][:-1]\n",
    "        stacks[strack_to] = stacks[strack_to] + [item_to_move]\n",
    "\n",
    "stacks"
   ]
  },
  {
   "cell_type": "code",
   "execution_count": 4,
   "metadata": {},
   "outputs": [
    {
     "data": {
      "text/plain": [
       "{1: ['V', 'D', 'W'],\n",
       " 2: ['Z', 'D', 'H', 'M', 'L', 'S', 'J', 'W', 'Z'],\n",
       " 3: ['S', 'M'],\n",
       " 4: ['H', 'F', 'R', 'N', 'Z', 'S', 'F', 'M', 'M', 'J', 'F'],\n",
       " 5: ['R', 'D', 'T', 'H', 'H', 'T', 'V'],\n",
       " 6: ['S', 'N', 'H', 'T', 'Z', 'T', 'G'],\n",
       " 7: ['G'],\n",
       " 8: ['Z'],\n",
       " 9: ['Z',\n",
       "  'W',\n",
       "  'T',\n",
       "  'C',\n",
       "  'Q',\n",
       "  'C',\n",
       "  'Q',\n",
       "  'H',\n",
       "  'P',\n",
       "  'J',\n",
       "  'L',\n",
       "  'L',\n",
       "  'B',\n",
       "  'V',\n",
       "  'P']}"
      ]
     },
     "execution_count": 4,
     "metadata": {},
     "output_type": "execute_result"
    }
   ],
   "source": [
    "# Initialize my stack\n",
    "stacks = {\n",
    "   1: ['R', 'G', 'H', 'Q', 'S', 'B', 'T', 'N'],\n",
    "   2: ['H', 'S', 'F', 'D', 'P', 'Z', 'J'],\n",
    "   3: ['Z', 'H', 'V'],\n",
    "   4: ['M', 'Z', 'J', 'F', 'G', 'H'],\n",
    "   5: ['T', 'Z', 'C', 'D', 'L', 'M', 'S', 'R'],\n",
    "   6: ['M', 'T', 'W', 'V', 'H', 'Z', 'J'],\n",
    "   7: ['T', 'F', 'P', 'L', 'Z'],\n",
    "   8: ['Q', 'V', 'W', 'S'],\n",
    "   9: ['W', 'H', 'L', 'M', 'T', 'D', 'N', 'C'],\n",
    "}\n",
    "\n",
    "for line in lines:\n",
    "    l = line.replace('\\n', '').replace('move ', '').replace(' from ', ',').replace(' to ', ',')\n",
    "    l = l.split(sep=',')\n",
    "    l = [int(x) for x in l]\n",
    "    n_moves = l[0]\n",
    "    strack_from = l[1]\n",
    "    strack_to = l[2]\n",
    "\n",
    "    items_to_move = stacks[strack_from][-n_moves:]\n",
    "    stacks[strack_from] = stacks[strack_from][:-n_moves]\n",
    "    stacks[strack_to] = stacks[strack_to] + items_to_move\n",
    "\n",
    "stacks"
   ]
  }
 ],
 "metadata": {
  "kernelspec": {
   "display_name": "Python 3.9.4 64-bit",
   "language": "python",
   "name": "python3"
  },
  "language_info": {
   "codemirror_mode": {
    "name": "ipython",
    "version": 3
   },
   "file_extension": ".py",
   "mimetype": "text/x-python",
   "name": "python",
   "nbconvert_exporter": "python",
   "pygments_lexer": "ipython3",
   "version": "3.9.4"
  },
  "orig_nbformat": 4,
  "vscode": {
   "interpreter": {
    "hash": "0f9fe7654c201a2f0e5a846a57c518c35e6a2afb02af181997bf343144989e50"
   }
  }
 },
 "nbformat": 4,
 "nbformat_minor": 2
}
