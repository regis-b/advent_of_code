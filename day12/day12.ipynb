{
 "cells": [
  {
   "cell_type": "code",
   "execution_count": 70,
   "metadata": {},
   "outputs": [
    {
     "name": "stdout",
     "output_type": "stream",
     "text": [
      "S is located in ([20, 0]), E is located in ([20, 52])\n",
      "shape of map = (41, 77)\n"
     ]
    },
    {
     "data": {
      "text/plain": [
       "array([[1, 2, 3, ..., 1, 1, 1],\n",
       "       [1, 2, 3, ..., 1, 1, 1],\n",
       "       [1, 2, 3, ..., 1, 1, 1],\n",
       "       ...,\n",
       "       [1, 2, 1, ..., 1, 1, 1],\n",
       "       [1, 2, 1, ..., 1, 1, 1],\n",
       "       [1, 2, 1, ..., 1, 1, 1]])"
      ]
     },
     "execution_count": 70,
     "metadata": {},
     "output_type": "execute_result"
    }
   ],
   "source": [
    "import numpy as np\n",
    "from copy import deepcopy\n",
    "\n",
    "# Open input file and load it to a numpy array\n",
    "with open('input.txt') as file:\n",
    "    lines = file.readlines()\n",
    "heights = np.array([list(line.strip()) for line in lines])\n",
    "\n",
    "# Detect Start and End\n",
    "sx, sy = np.where(heights == 'S')[0][0], np.where(heights == 'S')[1][0]\n",
    "ex, ey = np.where(heights == 'E')[0][0], np.where(heights == 'E')[1][0]\n",
    "E = [ex, ey]\n",
    "print(f'S is located in ({[sx, sy]}), E is located in ({[ex, ey]})')\n",
    "print(f'shape of map = {heights.shape}')\n",
    "\n",
    "# Replace letters by integers\n",
    "lines = [line.replace('S', 'a').replace('E', 'z') for line in lines]\n",
    "heights = np.array([[(ord(char) - 96) for char in list(line.strip())] for line in lines])\n",
    "heights"
   ]
  },
  {
   "cell_type": "code",
   "execution_count": 71,
   "metadata": {},
   "outputs": [
    {
     "name": "stdout",
     "output_type": "stream",
     "text": [
      "Part 1: 394\n",
      "Part 2: 388\n"
     ]
    }
   ],
   "source": [
    "# We need to keep track of each visited cells\n",
    "visited = []\n",
    "\n",
    "def calculate_possible_coords(coord):\n",
    "    global visited\n",
    "    x, y = coord\n",
    "    height = heights[x][y]\n",
    "    # Possible moves are up, down, left and right\n",
    "    potential_moves =  [[0, -1]] if y >= 1                 else []\n",
    "    potential_moves += [[0, 1]]  if y < heights.shape[1]-1 else []\n",
    "    potential_moves += [[-1, 0]] if x >= 1                 else []\n",
    "    potential_moves += [[1, 0]]  if x < heights.shape[0]-1 else []\n",
    "    # Foreach move, verify that the target is reachable or not already visited\n",
    "    possible_coords = []\n",
    "    for potential_move in potential_moves:\n",
    "        potential_coord = [x+potential_move[0], y+potential_move[1]]\n",
    "        potential_height = heights[potential_coord[0]][potential_coord[1]]\n",
    "        if not(potential_coord in visited) and (potential_height <= (height + 1)):\n",
    "            possible_coords += [potential_coord]\n",
    "    return possible_coords\n",
    "\n",
    "def find_shortest_path(initial_coord):\n",
    "    global visited\n",
    "    visited = []\n",
    "    possible_coords = [initial_coord]\n",
    "    for i in range(heights.shape[0] * heights.shape[1]):\n",
    "        # At each iteration, visit the reachable cells (i.e. calculate their\n",
    "        # reachable cells) of all the visited cells at last iteration\n",
    "        next_possible_coords = []\n",
    "        for c in possible_coords:\n",
    "            if (c == E):\n",
    "                return i\n",
    "            next_possible_coords += calculate_possible_coords(c)\n",
    "            visited += [c]\n",
    "        # Create a list of unique reachable cells\n",
    "        next_possible_coords = np.unique(next_possible_coords, axis=0).tolist()\n",
    "        possible_coords = next_possible_coords\n",
    "\n",
    "# Part 1\n",
    "print(f'Part 1: {find_shortest_path([sx, sy])}')\n",
    "\n",
    "# Part 2\n",
    "# Initialize min to a high value (should not be higher than the number of cells)\n",
    "min_path = heights.shape[0] * heights.shape[1]\n",
    "# Calculate shortest path for each [a] of the map\n",
    "for x, y in zip(*np.where(heights == 1)):\n",
    "    i = find_shortest_path([x, y])\n",
    "    if i is not None:\n",
    "        min_path = min(min_path, i)\n",
    "print(f'Part 2: {min_path}')"
   ]
  }
 ],
 "metadata": {
  "kernelspec": {
   "display_name": "Python 3.9.4 64-bit",
   "language": "python",
   "name": "python3"
  },
  "language_info": {
   "codemirror_mode": {
    "name": "ipython",
    "version": 3
   },
   "file_extension": ".py",
   "mimetype": "text/x-python",
   "name": "python",
   "nbconvert_exporter": "python",
   "pygments_lexer": "ipython3",
   "version": "3.9.4 (tags/v3.9.4:1f2e308, Apr  6 2021, 13:40:21) [MSC v.1928 64 bit (AMD64)]"
  },
  "orig_nbformat": 4,
  "vscode": {
   "interpreter": {
    "hash": "0f9fe7654c201a2f0e5a846a57c518c35e6a2afb02af181997bf343144989e50"
   }
  }
 },
 "nbformat": 4,
 "nbformat_minor": 2
}
