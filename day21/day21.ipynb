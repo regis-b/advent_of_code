{
 "cells": [
  {
   "cell_type": "code",
   "execution_count": 98,
   "metadata": {},
   "outputs": [],
   "source": [
    "# input_file = 'input_example.txt'\n",
    "input_file = 'input_full.txt'\n",
    "\n",
    "with open(input_file) as file:\n",
    "    lines = file.readlines()\n",
    "lines = [line.strip().split(': ') for line in lines]\n",
    "\n",
    "d = {}\n",
    "for line in lines:\n",
    "    d[line[0]] = line[1]"
   ]
  },
  {
   "cell_type": "code",
   "execution_count": 99,
   "metadata": {},
   "outputs": [
    {
     "name": "stdout",
     "output_type": "stream",
     "text": [
      "Part 1: 49288254556480\n"
     ]
    }
   ],
   "source": [
    "def calculate(m):\n",
    "    if d[m].isdigit():\n",
    "        return int(d[m])\n",
    "    else:\n",
    "        op = d[m].split(' ')\n",
    "        s = d[m]\n",
    "        r1, r2 = calculate(op[0]), calculate(op[2])\n",
    "        s = s.replace(op[0], str(r1)).replace(op[2], str(r2))\n",
    "        return int(eval(s))\n",
    "\n",
    "print(f\"Part 1: {calculate('root')}\")"
   ]
  },
  {
   "cell_type": "code",
   "execution_count": 100,
   "metadata": {},
   "outputs": [
    {
     "name": "stdout",
     "output_type": "stream",
     "text": [
      "Part 2: [3558714869436]\n"
     ]
    }
   ],
   "source": [
    "from sympy import symbols, solve\n",
    "\n",
    "def calculate2(m):\n",
    "    if m == 'humn':\n",
    "        return 'humn'\n",
    "    elif d[m].isdigit():\n",
    "        return int(d[m])\n",
    "    else:\n",
    "        op = d[m].split(' ')\n",
    "        s = d[m]\n",
    "        r1, r2 = calculate2(op[0]), calculate2(op[2])\n",
    "        if m == 'root':\n",
    "            return f'({r1})-({r2})'\n",
    "        if (type(r1) == int) and (type(r2) == int):\n",
    "            s = s.replace(op[0], str(r1))\n",
    "            s = s.replace(op[2], str(r2))\n",
    "            return int(eval(s))\n",
    "        else:\n",
    "            return s.replace(op[0], f'({r1})').replace(op[2], f'({r2})')\n",
    "            \n",
    "eq = calculate2('root')\n",
    "\n",
    "humn = symbols('humn')\n",
    "print(f'Part 2: {solve(eq)}')        "
   ]
  }
 ],
 "metadata": {
  "kernelspec": {
   "display_name": "Python 3",
   "language": "python",
   "name": "python3"
  },
  "language_info": {
   "codemirror_mode": {
    "name": "ipython",
    "version": 3
   },
   "file_extension": ".py",
   "mimetype": "text/x-python",
   "name": "python",
   "nbconvert_exporter": "python",
   "pygments_lexer": "ipython3",
   "version": "3.9.4"
  },
  "orig_nbformat": 4,
  "vscode": {
   "interpreter": {
    "hash": "0f9fe7654c201a2f0e5a846a57c518c35e6a2afb02af181997bf343144989e50"
   }
  }
 },
 "nbformat": 4,
 "nbformat_minor": 2
}
